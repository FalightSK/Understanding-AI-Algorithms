{
  "cells": [
    {
      "cell_type": "code",
      "execution_count": 1,
      "metadata": {
        "id": "6a1xnVuSDfWI"
      },
      "outputs": [],
      "source": [
        "import numpy as np\n",
        "import pandas as pd\n",
        "import matplotlib.pyplot as plt\n",
        "import random"
      ]
    },
    {
      "cell_type": "markdown",
      "metadata": {
        "id": "zt_HUIhIEAds"
      },
      "source": [
        "# **Logistic Regression**"
      ]
    },
    {
      "cell_type": "markdown",
      "metadata": {
        "id": "DMv0ncIKEGB6"
      },
      "source": [
        "### Logistic Regression with 2 Features"
      ]
    },
    {
      "cell_type": "markdown",
      "metadata": {
        "id": "dCFz6ZqOSRCv"
      },
      "source": [
        "Create simulated dataset as a normal distribution."
      ]
    },
    {
      "cell_type": "code",
      "execution_count": 2,
      "metadata": {
        "id": "_FrgKJhBEEwd"
      },
      "outputs": [],
      "source": [
        "np.random.seed(42)\n",
        "\n",
        "num_samples = 40\n",
        "\n",
        "# Class 0 data\n",
        "x_1 = np.random.multivariate_normal([2, 2], [[1, .75],[.75, 1]], num_samples)\n",
        "y_1 = np.zeros(num_samples)\n",
        "\n",
        "# Class 1 data\n",
        "x_2 = np.random.multivariate_normal([-1, -1], [[1, .75],[.75, 1]], num_samples)\n",
        "y_2 = np.ones(num_samples)\n",
        "\n",
        "# Combining the data\n",
        "X = np.vstack((x_1, x_2))\n",
        "y = np.hstack((y_1, y_2))"
      ]
    },
    {
      "cell_type": "code",
      "execution_count": 3,
      "metadata": {
        "colab": {
          "base_uri": "https://localhost:8080/",
          "height": 333
        },
        "id": "egIoAc2GEKoq",
        "outputId": "3d3e1dd3-8491-494c-be3b-3c700eb609a6"
      },
      "outputs": [
        {
          "data": {
            "image/png": "[encoded data removed]",
            "text/plain": [
              "<Figure size 500x300 with 1 Axes>"
            ]
          },
          "metadata": {},
          "output_type": "display_data"
        }
      ],
      "source": [
        "plt.figure(figsize=(5,3))\n",
        "plt.scatter(x_1[:,0], x_1[:,1], color='red', label='Class 0')\n",
        "plt.scatter(x_2[:,0], x_2[:,1], color='blue', label='Class 1')\n",
        "\n",
        "plt.xlabel('Feature 1')\n",
        "plt.ylabel('Feature 2')\n",
        "plt.title('Plot of data set to see the two classes.')\n",
        "plt.legend()\n",
        "plt.show()"
      ]
    },
    {
      "cell_type": "code",
      "execution_count": 6,
      "metadata": {
        "id": "Uj_DnlOuTPpP"
      },
      "outputs": [
        {
          "data": {
            "text/plain": [
              "array([ 0.2788536 , -0.94997849, -0.44994136])"
            ]
          },
          "execution_count": 6,
          "metadata": {},
          "output_type": "execute_result"
        }
      ],
      "source": [
        "def initializeTheta(X, random_seed):\n",
        "  random.seed(random_seed)\n",
        "  size, features = X.shape\n",
        "  # num(weight) = num(features) + 1 for bias\n",
        "  thetaArray = [random.random()*2 - 1 for i in range(features + 1)]\n",
        "\n",
        "  return np.array(thetaArray)\n",
        "\n",
        "initializeTheta(X,42)"
      ]
    },
    {
      "cell_type": "code",
      "execution_count": 11,
      "metadata": {
        "id": "G3GwY6P0Ei1R"
      },
      "outputs": [],
      "source": [
        "def sigmoid(z):\n",
        "    return 1 / (1 + np.exp(-1 * z))\n",
        "\n",
        "def prediction(X, c, m1, m2):\n",
        "  size, feature = X.shape\n",
        "  one = np.expand_dims(np.ones(size), 1)\n",
        "  params = np.array([c, m1, m2])\n",
        "  train_set = np.column_stack((one, X))\n",
        "  \n",
        "  # sigmoid( Linear regression )\n",
        "  h = sigmoid(np.dot(params, train_set.T))\n",
        "\n",
        "  return h"
      ]
    },
    {
      "cell_type": "code",
      "execution_count": 14,
      "metadata": {
        "id": "zofE3Fj6F_Fq"
      },
      "outputs": [
        {
          "name": "stdout",
          "output_type": "stream",
          "text": [
            "(80, 2) (80,)\n"
          ]
        }
      ],
      "source": [
        "thetaArray = initializeTheta(X, 42)\n",
        "theta0 = thetaArray[0]\n",
        "theta1 = thetaArray[1]\n",
        "theta2 = thetaArray[2]\n",
        "h = prediction(X, theta0, theta1, theta2)\n",
        "print(X.shape, h.shape)"
      ]
    },
    {
      "cell_type": "code",
      "execution_count": 17,
      "metadata": {
        "id": "EdkZPSE7GApm"
      },
      "outputs": [
        {
          "data": {
            "text/plain": [
              "np.float64(0.19866191835309335)"
            ]
          },
          "execution_count": 17,
          "metadata": {},
          "output_type": "execute_result"
        }
      ],
      "source": [
        "def logLoss(h, y):\n",
        "  # Binary cross entropy function\n",
        "  return ((-1. * y * np.log(h)) - ((1. - y) * np.log(1. - h))).mean()\n",
        "\n",
        "logLoss(h, y)"
      ]
    },
    {
      "cell_type": "code",
      "execution_count": 18,
      "metadata": {
        "id": "SxNTkh1hNxFX"
      },
      "outputs": [
        {
          "data": {
            "text/plain": [
              "array([-0.06877083,  0.09302227,  0.10442537])"
            ]
          },
          "execution_count": 18,
          "metadata": {},
          "output_type": "execute_result"
        }
      ],
      "source": [
        "def gradients(X, y, h):\n",
        "  s, _ = X.shape\n",
        "  f = np.column_stack((np.ones(s), X))\n",
        "  return (1/s) * np.dot(f.T, (h - y))\n",
        "\n",
        "dThetaArray = gradients(X, y, h)\n",
        "dThetaArray"
      ]
    },
    {
      "cell_type": "code",
      "execution_count": 20,
      "metadata": {
        "id": "bMkGMGzSR2UV"
      },
      "outputs": [
        {
          "data": {
            "text/plain": [
              "array([ 0.27954131, -0.95090871, -0.45098562])"
            ]
          },
          "execution_count": 20,
          "metadata": {},
          "output_type": "execute_result"
        }
      ],
      "source": [
        "def updateTheta(X, thetaArray, dThetaArray, learning_rate):\n",
        "  return thetaArray - learning_rate*dThetaArray\n",
        "\n",
        "theta_updated = updateTheta(X, thetaArray, dThetaArray, 0.01)\n",
        "theta_updated"
      ]
    },
    {
      "cell_type": "code",
      "execution_count": 23,
      "metadata": {
        "id": "R2Hkk170Trrh"
      },
      "outputs": [
        {
          "name": "stdout",
          "output_type": "stream",
          "text": [
            "0.1792548255021849 [ 0.34627922 -1.03070157 -0.54178807]\n"
          ]
        }
      ],
      "source": [
        "def runLogisticRegression_2Features(X, y, iterations, learning_rate):\n",
        "  thetaArray = initializeTheta(X, 42)\n",
        "  loss = 0\n",
        "\n",
        "  for epoch in range(iterations):\n",
        "\n",
        "    h = prediction(X, thetaArray[0], thetaArray[1], thetaArray[2])\n",
        "    thetaArray = updateTheta(X, thetaArray, gradients(X, y, h), learning_rate)\n",
        "    loss = logLoss(h, y)\n",
        "\n",
        "  return loss, thetaArray\n",
        "\n",
        "loss, thetaArray = runLogisticRegression_2Features(X, y, 100, 0.01)\n",
        "print(loss, thetaArray)"
      ]
    },
    {
      "cell_type": "code",
      "execution_count": 34,
      "metadata": {
        "id": "9Zvs_UCyYm9Z"
      },
      "outputs": [],
      "source": [
        "def calFeature2Values(x_values, c, m1, m2):\n",
        "  # theta2 * y = theta1 * x + theta3\n",
        "  # y = theta1/theta2 * x + theta3 / theta2 --> linear estimation of dataset\n",
        "  # bound = - theta1/theta2 * x + theta3 / theta2 --> decision boundary\n",
        "  estiamte = ((m1/m2) * x_values) + (c/m2)\n",
        "  feature2_val = (-(m1/m2) * x_values) + (c/m2)\n",
        "  return estiamte, feature2_val\n",
        "\n",
        "def plotResult2D(x_1, x_2, c, m1, m2):\n",
        "  plt.figure(figsize=(5,3))\n",
        "  plt.scatter(x_1[:,0], x_1[:,1], color='red', label='Class 0')\n",
        "  plt.scatter(x_2[:,0], x_2[:,1], color='blue', label='Class 1')\n",
        "\n",
        "  # Decision boundary\n",
        "  x_values = np.linspace(-4, 4, 100)\n",
        "  estiamte, y_values = calFeature2Values(x_values, c, m1, m2)\n",
        "  plt.plot(x_values, estiamte, label='estimate', color='orange')\n",
        "  plt.plot(x_values, y_values, label='Decision', color='green')\n",
        "\n",
        "  plt.xlabel('Feature 1')\n",
        "  plt.ylabel('Feature 2')\n",
        "  plt.title('Logistic Regression using Gradient Descent')\n",
        "  plt.legend()\n",
        "  plt.show()"
      ]
    },
    {
      "cell_type": "code",
      "execution_count": 35,
      "metadata": {
        "colab": {
          "base_uri": "https://localhost:8080/",
          "height": 333
        },
        "id": "qNRAcN1hZklU",
        "outputId": "16dd5ffd-2e99-4e06-b579-fbd6b487de7a"
      },
      "outputs": [
        {
          "data": {
            "image/png": "[encoded data removed]",
            "text/plain": [
              "<Figure size 500x300 with 1 Axes>"
            ]
          },
          "metadata": {},
          "output_type": "display_data"
        }
      ],
      "source": [
        "plotResult2D(x_1, x_2, thetaArray[0], thetaArray[1], thetaArray[2])"
      ]
    },
    {
      "cell_type": "markdown",
      "metadata": {
        "id": "pfJ-nMYntarZ"
      },
      "source": [
        "### Logistic Regression Multiple Features"
      ]
    },
    {
      "cell_type": "code",
      "execution_count": 43,
      "metadata": {
        "id": "KxmJtU7KZ0-H"
      },
      "outputs": [],
      "source": [
        "# Use the same data as before but pad ones to the X matrix\n",
        "X = np.column_stack((np.ones(X.shape[0]), X))"
      ]
    },
    {
      "cell_type": "code",
      "execution_count": 44,
      "metadata": {
        "id": "lR75wmPCZ-_u"
      },
      "outputs": [
        {
          "data": {
            "text/plain": [
              "array([ 0.2788536 , -0.94997849, -0.44994136])"
            ]
          },
          "execution_count": 44,
          "metadata": {},
          "output_type": "execute_result"
        }
      ],
      "source": [
        "def initializeTheta_nFeatures(X, random_seed):\n",
        "  random.seed(random_seed)\n",
        "  size, features = X.shape\n",
        "  thetaArray = [random.random()*2 - 1 for i in range(features)]\n",
        "\n",
        "  return np.array(thetaArray)\n",
        "\n",
        "thetaArray = initializeTheta_nFeatures(X,42)\n",
        "thetaArray"
      ]
    },
    {
      "cell_type": "code",
      "execution_count": 45,
      "metadata": {
        "id": "qfGN9WP-azAZ"
      },
      "outputs": [
        {
          "data": {
            "text/plain": [
              "(80,)"
            ]
          },
          "execution_count": 45,
          "metadata": {},
          "output_type": "execute_result"
        }
      ],
      "source": [
        "def prediction_nFeatures(X, thetaArray):\n",
        "  h = sigmoid(np.dot(thetaArray, X.T))\n",
        "  return h\n",
        "\n",
        "h = prediction_nFeatures(X, thetaArray)\n",
        "h.shape"
      ]
    },
    {
      "cell_type": "code",
      "execution_count": 46,
      "metadata": {
        "id": "xsTWu9ucxaCG"
      },
      "outputs": [
        {
          "data": {
            "text/plain": [
              "np.float64(0.19866191835309335)"
            ]
          },
          "execution_count": 46,
          "metadata": {},
          "output_type": "execute_result"
        }
      ],
      "source": [
        "loss = logLoss(h, y)\n",
        "loss"
      ]
    },
    {
      "cell_type": "code",
      "execution_count": 47,
      "metadata": {
        "id": "sK4_n2UKx9j2"
      },
      "outputs": [
        {
          "data": {
            "text/plain": [
              "array([-0.06877083,  0.09302227,  0.10442537])"
            ]
          },
          "execution_count": 47,
          "metadata": {},
          "output_type": "execute_result"
        }
      ],
      "source": [
        "def gradients_nFeatures(X, y, h):\n",
        "  return (1/X.shape[0]) * np.dot(X.T, (h - y))\n",
        "\n",
        "dThetaArray = gradients_nFeatures(X, y, h)\n",
        "dThetaArray"
      ]
    },
    {
      "cell_type": "code",
      "execution_count": 48,
      "metadata": {
        "id": "-5cHHLInyS5P"
      },
      "outputs": [
        {
          "data": {
            "text/plain": [
              "array([ 0.27954131, -0.95090871, -0.45098562])"
            ]
          },
          "execution_count": 48,
          "metadata": {},
          "output_type": "execute_result"
        }
      ],
      "source": [
        "learning_rate = 0.01\n",
        "theta_updated = updateTheta(X, thetaArray, dThetaArray, learning_rate)\n",
        "theta_updated"
      ]
    },
    {
      "cell_type": "code",
      "execution_count": 49,
      "metadata": {
        "id": "aG2_NDsrwnTW"
      },
      "outputs": [
        {
          "name": "stdout",
          "output_type": "stream",
          "text": [
            "0.1792548255021849 [ 0.34627922 -1.03070157 -0.54178807]\n"
          ]
        }
      ],
      "source": [
        "def runLogisticRegression_nFeatures(X,y,iterations, learning_rate):\n",
        "  thetaArray = initializeTheta_nFeatures(X, 42)\n",
        "  loss = 0\n",
        "\n",
        "  for epoch in range(iterations):\n",
        "\n",
        "    h = prediction_nFeatures(X, thetaArray)\n",
        "    thetaArray = updateTheta(X, thetaArray, gradients_nFeatures(X, y, h), learning_rate)\n",
        "    loss = logLoss(h, y)\n",
        "\n",
        "  return loss, thetaArray\n",
        "\n",
        "loss, thetaArray = runLogisticRegression_nFeatures(X, y, 100, 0.01)\n",
        "print(loss, thetaArray)"
      ]
    },
    {
      "cell_type": "code",
      "execution_count": 50,
      "metadata": {
        "colab": {
          "base_uri": "https://localhost:8080/",
          "height": 333
        },
        "id": "BshGJ_gIdX_r",
        "outputId": "92c9b0a9-22d0-4098-df79-c32db95247c1"
      },
      "outputs": [
        {
          "data": {
            "image/png": "[encoded data removed]",
            "text/plain": [
              "<Figure size 500x300 with 1 Axes>"
            ]
          },
          "metadata": {},
          "output_type": "display_data"
        }
      ],
      "source": [
        "plotResult2D(x_1, x_2, thetaArray[0], thetaArray[1], thetaArray[2])"
      ]
    },
    {
      "cell_type": "markdown",
      "metadata": {
        "id": "BDEt-80a4wzD"
      },
      "source": [
        "### Logistic Regression with Advertisment Click Binary Classification"
      ]
    },
    {
      "cell_type": "code",
      "execution_count": 52,
      "metadata": {
        "id": "2J25O9ZrdYFo"
      },
      "outputs": [
        {
          "data": {
            "text/html": [
              "<div>\n",
              "<style scoped>\n",
              "    .dataframe tbody tr th:only-of-type {\n",
              "        vertical-align: middle;\n",
              "    }\n",
              "\n",
              "    .dataframe tbody tr th {\n",
              "        vertical-align: top;\n",
              "    }\n",
              "\n",
              "    .dataframe thead th {\n",
              "        text-align: right;\n",
              "    }\n",
              "</style>\n",
              "<table border=\"1\" class=\"dataframe\">\n",
              "  <thead>\n",
              "    <tr style=\"text-align: right;\">\n",
              "      <th></th>\n",
              "      <th>Daily Time Spent on Site</th>\n",
              "      <th>Age</th>\n",
              "      <th>Area Income</th>\n",
              "      <th>Daily Internet Usage</th>\n",
              "      <th>Ad Topic Line</th>\n",
              "      <th>City</th>\n",
              "      <th>Male</th>\n",
              "      <th>Country</th>\n",
              "      <th>Timestamp</th>\n",
              "      <th>Clicked on Ad</th>\n",
              "    </tr>\n",
              "  </thead>\n",
              "  <tbody>\n",
              "    <tr>\n",
              "      <th>549</th>\n",
              "      <td>73.89</td>\n",
              "      <td>35</td>\n",
              "      <td>70495.64</td>\n",
              "      <td>229.99</td>\n",
              "      <td>Multi-channeled asymmetric installation</td>\n",
              "      <td>Dustinborough</td>\n",
              "      <td>1</td>\n",
              "      <td>Somalia</td>\n",
              "      <td>2016-06-26 17:25:55</td>\n",
              "      <td>0</td>\n",
              "    </tr>\n",
              "    <tr>\n",
              "      <th>488</th>\n",
              "      <td>35.49</td>\n",
              "      <td>48</td>\n",
              "      <td>43974.49</td>\n",
              "      <td>159.77</td>\n",
              "      <td>Fully-configurable holistic throughput</td>\n",
              "      <td>Timothyport</td>\n",
              "      <td>0</td>\n",
              "      <td>American Samoa</td>\n",
              "      <td>2016-04-08 14:35:44</td>\n",
              "      <td>1</td>\n",
              "    </tr>\n",
              "    <tr>\n",
              "      <th>244</th>\n",
              "      <td>70.44</td>\n",
              "      <td>24</td>\n",
              "      <td>65280.16</td>\n",
              "      <td>178.75</td>\n",
              "      <td>Polarized attitude-oriented superstructure</td>\n",
              "      <td>New Sonialand</td>\n",
              "      <td>1</td>\n",
              "      <td>Algeria</td>\n",
              "      <td>2016-06-06 21:26:51</td>\n",
              "      <td>0</td>\n",
              "    </tr>\n",
              "    <tr>\n",
              "      <th>553</th>\n",
              "      <td>44.73</td>\n",
              "      <td>35</td>\n",
              "      <td>55316.97</td>\n",
              "      <td>127.56</td>\n",
              "      <td>Object-based neutral policy</td>\n",
              "      <td>North Lauraland</td>\n",
              "      <td>1</td>\n",
              "      <td>Guam</td>\n",
              "      <td>2016-01-27 18:25:42</td>\n",
              "      <td>1</td>\n",
              "    </tr>\n",
              "    <tr>\n",
              "      <th>269</th>\n",
              "      <td>79.15</td>\n",
              "      <td>26</td>\n",
              "      <td>62312.23</td>\n",
              "      <td>203.23</td>\n",
              "      <td>Intuitive explicit conglomeration</td>\n",
              "      <td>Port Robin</td>\n",
              "      <td>0</td>\n",
              "      <td>Greenland</td>\n",
              "      <td>2016-01-20 19:09:37</td>\n",
              "      <td>0</td>\n",
              "    </tr>\n",
              "  </tbody>\n",
              "</table>\n",
              "</div>"
            ],
            "text/plain": [
              "     Daily Time Spent on Site  Age  Area Income  Daily Internet Usage  \\\n",
              "549                     73.89   35     70495.64                229.99   \n",
              "488                     35.49   48     43974.49                159.77   \n",
              "244                     70.44   24     65280.16                178.75   \n",
              "553                     44.73   35     55316.97                127.56   \n",
              "269                     79.15   26     62312.23                203.23   \n",
              "\n",
              "                                  Ad Topic Line             City  Male  \\\n",
              "549     Multi-channeled asymmetric installation    Dustinborough     1   \n",
              "488      Fully-configurable holistic throughput      Timothyport     0   \n",
              "244  Polarized attitude-oriented superstructure    New Sonialand     1   \n",
              "553                 Object-based neutral policy  North Lauraland     1   \n",
              "269           Intuitive explicit conglomeration       Port Robin     0   \n",
              "\n",
              "            Country            Timestamp  Clicked on Ad  \n",
              "549         Somalia  2016-06-26 17:25:55              0  \n",
              "488  American Samoa  2016-04-08 14:35:44              1  \n",
              "244         Algeria  2016-06-06 21:26:51              0  \n",
              "553            Guam  2016-01-27 18:25:42              1  \n",
              "269       Greenland  2016-01-20 19:09:37              0  "
            ]
          },
          "execution_count": 52,
          "metadata": {},
          "output_type": "execute_result"
        }
      ],
      "source": [
        "df = pd.read_csv('advertising.csv')\n",
        "df.sample(5)"
      ]
    },
    {
      "cell_type": "code",
      "execution_count": 53,
      "metadata": {
        "id": "BxIxO4a2Hdjk"
      },
      "outputs": [],
      "source": [
        "def normalize(df_column):\n",
        "  stat = df_column.describe()\n",
        "  name = stat.columns.item()\n",
        "  norm = (df_column.to_numpy() - stat[name]['mean']) / stat[name]['std']\n",
        "\n",
        "  return norm"
      ]
    },
    {
      "cell_type": "code",
      "execution_count": 54,
      "metadata": {
        "id": "GxjmItRJHd8f"
      },
      "outputs": [],
      "source": [
        "df[['Daily Time Spent on Site']] = normalize( df[['Daily Time Spent on Site']] )\n",
        "df[['Age']] = normalize( df[['Age']] )\n",
        "df[['Area Income']] = normalize( df[['Area Income']] )\n",
        "df[['Daily Internet Usage']] = normalize( df[['Daily Internet Usage']] )\n",
        "\n",
        "assert df['Daily Time Spent on Site'].std() == 1\n",
        "assert df['Age'].std() == 1\n",
        "assert df['Area Income'].std() == 1\n",
        "assert df['Daily Internet Usage'].std() == 1"
      ]
    },
    {
      "cell_type": "code",
      "execution_count": 91,
      "metadata": {
        "id": "cR7VW2CkdYLq"
      },
      "outputs": [],
      "source": [
        "from sklearn.model_selection import train_test_split\n",
        "\n",
        "y = df[['Clicked on Ad']]\n",
        "X = df.drop(columns = ['Clicked on Ad', 'Male', 'City', 'Ad Topic Line', 'Country', 'Timestamp'])\n",
        "\n",
        "# Split the data into training and testing sets\n",
        "df_X_train, df_X_test, df_y_train, df_y_test = train_test_split(X, y, test_size=0.2, random_state=42)\n",
        "\n",
        "X = df_X_train.to_numpy()\n",
        "y = df_y_train.to_numpy().squeeze(1)"
      ]
    },
    {
      "cell_type": "code",
      "execution_count": 92,
      "metadata": {
        "id": "eM_F79Lc8aav"
      },
      "outputs": [],
      "source": [
        "X = np.hstack((np.ones(( len(X), 1)), X))"
      ]
    },
    {
      "cell_type": "code",
      "execution_count": 93,
      "metadata": {
        "colab": {
          "base_uri": "https://localhost:8080/"
        },
        "id": "NmRvQsrPdYOn",
        "outputId": "70ae1088-d0df-4397-99da-d52d08aaee76"
      },
      "outputs": [],
      "source": [
        "learning_rate = 5e-3\n",
        "iterations = 250\n",
        "loss, thetaArray = runLogisticRegression_nFeatures(X, y, iterations, learning_rate)"
      ]
    },
    {
      "cell_type": "code",
      "execution_count": 94,
      "metadata": {
        "id": "MgBH2b-zBTTZ"
      },
      "outputs": [],
      "source": [
        "h = prediction_nFeatures(X, thetaArray)"
      ]
    },
    {
      "cell_type": "code",
      "execution_count": 95,
      "metadata": {
        "id": "spjmsR3hBKJ5"
      },
      "outputs": [],
      "source": [
        "def accuracy(h,y):\n",
        "  thres = np.where(h >= 0.5, 1, 0)\n",
        "  n = 0\n",
        "  for i in range(len(thres)):\n",
        "    if thres[i] == y[i]:\n",
        "      n += 1\n",
        "\n",
        "  return n/len(thres)"
      ]
    },
    {
      "cell_type": "code",
      "execution_count": 96,
      "metadata": {
        "id": "_nEkfJmNTzLz"
      },
      "outputs": [],
      "source": [
        "# verify that accuracy function is correct\n",
        "h_temp = np.array([ 0.2, 0.4, 0.5, 0.6, 0.8, 0.9])\n",
        "y_temp =  np.array([ 0, 0, 1, 0, 1, 0])\n",
        "assert accuracy(h_temp, y_temp) == 2/3"
      ]
    },
    {
      "cell_type": "code",
      "execution_count": 97,
      "metadata": {
        "colab": {
          "base_uri": "https://localhost:8080/"
        },
        "id": "df6k-uQCVdL5",
        "outputId": "c98a667c-46bf-48d4-de54-b5a7e02af5aa"
      },
      "outputs": [
        {
          "data": {
            "text/plain": [
              "0.8575"
            ]
          },
          "execution_count": 97,
          "metadata": {},
          "output_type": "execute_result"
        }
      ],
      "source": [
        "accuracy(h,y)"
      ]
    },
    {
      "cell_type": "markdown",
      "metadata": {
        "id": "n_ArnkGF9SbQ"
      },
      "source": [
        "Apply model on test data set and find the accuracy."
      ]
    },
    {
      "cell_type": "code",
      "execution_count": 98,
      "metadata": {
        "id": "fYMhUGqU9bJN"
      },
      "outputs": [],
      "source": [
        "X = df_X_test.to_numpy()\n",
        "y = df_y_test.to_numpy()"
      ]
    },
    {
      "cell_type": "code",
      "execution_count": 99,
      "metadata": {
        "id": "DBl4M1jTdYR0"
      },
      "outputs": [
        {
          "data": {
            "text/plain": [
              "np.float64(0.9014565000568766)"
            ]
          },
          "execution_count": 99,
          "metadata": {},
          "output_type": "execute_result"
        }
      ],
      "source": [
        "X = np.hstack((np.ones(( len(X), 1)), X))\n",
        "\n",
        "h = prediction_nFeatures(X, thetaArray)\n",
        "\n",
        "loss = logLoss(h,y)\n",
        "loss"
      ]
    },
    {
      "cell_type": "code",
      "execution_count": 100,
      "metadata": {
        "colab": {
          "base_uri": "https://localhost:8080/"
        },
        "id": "4obqkEX5VbPq",
        "outputId": "659c84cd-13e9-4c6b-c1e5-9522d664cd77"
      },
      "outputs": [
        {
          "data": {
            "text/plain": [
              "0.845"
            ]
          },
          "execution_count": 100,
          "metadata": {},
          "output_type": "execute_result"
        }
      ],
      "source": [
        "accuracy(h,y)"
      ]
    }
  ],
  "metadata": {
    "colab": {
      "provenance": []
    },
    "kernelspec": {
      "display_name": "Python 3",
      "name": "python3"
    },
    "language_info": {
      "codemirror_mode": {
        "name": "ipython",
        "version": 3
      },
      "file_extension": ".py",
      "mimetype": "text/x-python",
      "name": "python",
      "nbconvert_exporter": "python",
      "pygments_lexer": "ipython3",
      "version": "3.11.9"
    }
  },
  "nbformat": 4,
  "nbformat_minor": 0
}
