{
 "cells": [
  {
   "cell_type": "code",
   "execution_count": 1,
   "metadata": {},
   "outputs": [],
   "source": [
    "import numpy as np"
   ]
  },
  {
   "cell_type": "markdown",
   "metadata": {},
   "source": [
    "### Define Neural Network Class"
   ]
  },
  {
   "cell_type": "code",
   "execution_count": 2,
   "metadata": {},
   "outputs": [],
   "source": [
    "class NeuronNetworkLayer:\n",
    "  # Initializer / Instance Attributes\n",
    "  def __init__(self, num_input, num_output,activation, initial_gain):\n",
    "      np.random.seed(42)\n",
    "      self.inputs = []\n",
    "      self.outputs = []\n",
    "      self.weights = np.random.rand(num_output, num_input)*initial_gain\n",
    "      self.bias = np.random.rand(num_output)* initial_gain\n",
    "      self.activation = activation\n",
    "\n",
    "  def sigmoid(self, x):\n",
    "    output = 1/(1+np.exp(-x))\n",
    "    return output\n",
    "\n",
    "  def relu(self, x):\n",
    "    output = np.where(x > 0, x, 0)\n",
    "    return output\n",
    "\n",
    "  def forward(self, input):\n",
    "    # calculate forward propagation of layer then store in and return self.outputs\n",
    "    self.inputs = np.array(input)\n",
    "    # y = Theta1 * x1 + Theta2 * x2 + ... + bias\n",
    "    outputs = np.dot(self.inputs, self.weights.T) + self.bias\n",
    "    # outputs = activation(y) // Non-linearization\n",
    "    if self.activation == 'sigmoid':\n",
    "      self.outputs = self.sigmoid(outputs)\n",
    "    elif self.activation == 'relu':\n",
    "      self.outputs = self.relu(outputs)\n",
    "    elif self.activation == 'linear':\n",
    "      self.outputs = outputs\n",
    "    return self.outputs\n",
    "\n",
    "  def backprop(self, incoming_gradients, learning_rate):\n",
    "    # Calculate gradient of Loss with respect to weights, biases and inputs.\n",
    "    # Use the gradients to update the weights and biases.\n",
    "    # Return the input_gradients for use in the next layer.\n",
    "    input_gradients = 0\n",
    "\n",
    "    if self.activation == 'sigmoid':\n",
    "      gard_sig = self.outputs * (1-self.outputs)\n",
    "      # Chain rule\n",
    "      before_update = incoming_gradients * gard_sig\n",
    "    elif self.activation == 'relu':\n",
    "      gard_relu = np.where(self.outputs > 0, 1, 0)\n",
    "      # Chain rule\n",
    "      before_update = incoming_gradients * gard_relu\n",
    "    elif self.activation == 'linear':\n",
    "      before_update = np.array(incoming_gradients)\n",
    "\n",
    "    input_gradients = np.dot(self.weights.T, before_update)\n",
    "\n",
    "    # update weights and bias\n",
    "    self.weights -= learning_rate * np.outer(before_update, self.inputs)\n",
    "    self.bias -= learning_rate * before_update\n",
    "\n",
    "    return input_gradients"
   ]
  },
  {
   "cell_type": "code",
   "execution_count": 3,
   "metadata": {},
   "outputs": [],
   "source": [
    "class NeuralNetwork:\n",
    "  def __init__(self):\n",
    "      self.layers = []\n",
    "      self.output = None\n",
    "\n",
    "  def add_layer(self, nn_layer):\n",
    "    # Add layer to neural network\n",
    "    self.layers.append(nn_layer)\n",
    "\n",
    "  def forward(self, input):\n",
    "    # Do forward propagation through entire neural network\n",
    "    # Calculate and return the final layer_output\n",
    "    y = input\n",
    "    for layer in self.layers:\n",
    "      y = layer.forward(y)\n",
    "    return y\n",
    "\n",
    "  def loss(self, output, target):\n",
    "    loss = (output - target)**2\n",
    "    return loss/2\n",
    "\n",
    "  def loss_derivative(self, output, target):\n",
    "    dLoss = output - target\n",
    "    return dLoss\n",
    "\n",
    "  def backward(self, dLoss, learning_rate):\n",
    "    # Perform backpropagtion though entire neural network\n",
    "    # Return the input_gradients in the last layer\n",
    "    input_gradients = dLoss\n",
    "    for layer in reversed(self.layers):\n",
    "      input_gradients = layer.backprop(input_gradients, learning_rate)\n",
    "    return input_gradients\n",
    "\n",
    "  def train(self, iterations, train_x, train_y, learning_rate, print_every):\n",
    "    # Train the neural network\n",
    "    for i in range(iterations):\n",
    "      total_loss=0\n",
    "      for row_x, row_y in zip(train_x, train_y):\n",
    "        self.output = self.forward(row_x)\n",
    "        loss = self.loss(self.output, row_y)\n",
    "        dLoss = self.loss_derivative(self.output, row_y)\n",
    "        total_loss = total_loss + loss\n",
    "\n",
    "        self.backward(dLoss, learning_rate)\n",
    "\n",
    "      if i%print_every==0:\n",
    "        print('total_loss', sum(total_loss))\n",
    "\n",
    "    return total_loss"
   ]
  },
  {
   "cell_type": "markdown",
   "metadata": {},
   "source": [
    "### Testing with Logic Gates"
   ]
  },
  {
   "cell_type": "code",
   "execution_count": 4,
   "metadata": {},
   "outputs": [],
   "source": [
    "nn_model = NeuralNetwork()\n",
    "nn_model.add_layer(NeuronNetworkLayer(2,5, 'sigmoid', 0.01))\n",
    "nn_model.add_layer(NeuronNetworkLayer(5,10, 'sigmoid', 0.01))\n",
    "nn_model.add_layer(NeuronNetworkLayer(10,1, 'sigmoid', 0.01))"
   ]
  },
  {
   "cell_type": "code",
   "execution_count": 5,
   "metadata": {},
   "outputs": [
    {
     "name": "stdout",
     "output_type": "stream",
     "text": [
      "total_loss 0.5018283341189989\n",
      "total_loss 0.3809452141387508\n",
      "total_loss 0.017417753126093186\n",
      "total_loss 0.0024965958490738814\n"
     ]
    }
   ],
   "source": [
    "train_x = np.array([ [1,1], [1,0], [0,1], [0,0]])\n",
    "train_y = np.array([[1], [0], [0], [0] ])\n",
    "\n",
    "total_loss = nn_model.train(2000, train_x, train_y, 0.7, 500)"
   ]
  },
  {
   "cell_type": "code",
   "execution_count": 6,
   "metadata": {},
   "outputs": [
    {
     "name": "stdout",
     "output_type": "stream",
     "text": [
      "Logic 1 AND 1: [0.96039223]\n",
      "Logic 1 AND 0: [0.01985697]\n"
     ]
    }
   ],
   "source": [
    "# for AND gate an input of [1,1] should give output of 1\n",
    "print(\"Logic 1 AND 1:\", nn_model.forward(np.array([1,1])))\n",
    "# for AND gate an input of [1,0] should give output of 0\n",
    "print(\"Logic 1 AND 0:\", nn_model.forward(np.array([1,0])))"
   ]
  },
  {
   "cell_type": "markdown",
   "metadata": {},
   "source": [
    "### Predict linear and polynomial function"
   ]
  },
  {
   "cell_type": "code",
   "execution_count": 12,
   "metadata": {},
   "outputs": [],
   "source": [
    "import matplotlib.pyplot as plt\n",
    "\n",
    "def plotXY(x1,y1,x2,y2):\n",
    "  plt.figure(figsize=(8, 4))\n",
    "  plt.plot(x1, y1, label='Line 1', color='blue', linestyle='-', marker='o')\n",
    "  plt.plot(x2, y2, label='Line 2', color='red', linestyle='--', marker='x')\n",
    "  plt.title('X-Y Plot with Two Lines')\n",
    "\n",
    "  plt.xlabel('X axis label')\n",
    "  plt.ylabel('Y axis label')\n",
    "\n",
    "  plt.legend()\n",
    "  plt.show()"
   ]
  },
  {
   "cell_type": "code",
   "execution_count": 13,
   "metadata": {},
   "outputs": [],
   "source": [
    "# Model for predict linear function\n",
    "nn_model = NeuralNetwork()\n",
    "nn_model.add_layer(NeuronNetworkLayer(1, 1, 'linear', 0.1))"
   ]
  },
  {
   "cell_type": "code",
   "execution_count": 14,
   "metadata": {},
   "outputs": [
    {
     "name": "stdout",
     "output_type": "stream",
     "text": [
      "total_loss 196.7233437279094\n",
      "total_loss 4.174598096335596\n",
      "total_loss 0.22795857013356088\n",
      "total_loss 0.012447931153648258\n",
      "total_loss 0.0006797331195544107\n"
     ]
    }
   ],
   "source": [
    "train_x = np.linspace(-10, 10, 20)\n",
    "train_y = train_x*2+3\n",
    "\n",
    "train_x = np.array([[item] for item in train_x])\n",
    "train_y = np.array([[item] for item in train_y])\n",
    "\n",
    "total_loss = nn_model.train(50, train_x, train_y, 0.01, 10)"
   ]
  },
  {
   "cell_type": "code",
   "execution_count": 15,
   "metadata": {},
   "outputs": [
    {
     "data": {
      "image/png": "[encoded data removed]",
      "text/plain": [
       "<Figure size 800x400 with 1 Axes>"
      ]
     },
     "metadata": {},
     "output_type": "display_data"
    }
   ],
   "source": [
    "forward_result = []\n",
    "for x in train_x:\n",
    "  forward = nn_model.forward(x)\n",
    "  forward_result.append(forward)\n",
    "forward_result\n",
    "\n",
    "plotXY(train_x, train_y, train_x, forward_result )"
   ]
  },
  {
   "cell_type": "code",
   "execution_count": 16,
   "metadata": {},
   "outputs": [],
   "source": [
    "# Model for preict polynomial function\n",
    "nn_model = NeuralNetwork()\n",
    "nn_model.add_layer(NeuronNetworkLayer(1, 16, 'sigmoid', 0.01))\n",
    "nn_model.add_layer(NeuronNetworkLayer(16, 1, 'linear', 0.1))"
   ]
  },
  {
   "cell_type": "code",
   "execution_count": 17,
   "metadata": {},
   "outputs": [
    {
     "name": "stdout",
     "output_type": "stream",
     "text": [
      "total_loss 184461.7024096117\n",
      "total_loss 2015.470793936382\n",
      "total_loss 821.0736281918423\n",
      "total_loss 381.90290585447525\n",
      "total_loss 659.1091634639673\n",
      "total_loss 491.02488859516325\n",
      "total_loss 420.841565328433\n",
      "total_loss 292.6505570176172\n",
      "total_loss 87.10748610110238\n",
      "total_loss 76.6993983909446\n"
     ]
    }
   ],
   "source": [
    "train_x = np.linspace(-10, 10, 40)\n",
    "train_y = train_x*train_x*2+3*train_x+3\n",
    "\n",
    "train_x = np.array([[item] for item in train_x])\n",
    "train_y = np.array([[item] for item in train_y])\n",
    "\n",
    "total_loss = nn_model.train(10000, train_x, train_y, 2.5e-4, 1000)"
   ]
  },
  {
   "cell_type": "code",
   "execution_count": 18,
   "metadata": {},
   "outputs": [
    {
     "data": {
      "image/png": "[encoded data removed]",
      "text/plain": [
       "<Figure size 800x400 with 1 Axes>"
      ]
     },
     "metadata": {},
     "output_type": "display_data"
    }
   ],
   "source": [
    "train_x_prediction = []\n",
    "for x in train_x:\n",
    "  forward_result = nn_model.forward(x)\n",
    "  train_x_prediction.append(forward_result)\n",
    "\n",
    "train_x_prediction\n",
    "\n",
    "plotXY(train_x, train_y, train_x, train_x_prediction )"
   ]
  },
  {
   "cell_type": "markdown",
   "metadata": {},
   "source": [
    "### Simple classification"
   ]
  },
  {
   "cell_type": "code",
   "execution_count": 19,
   "metadata": {},
   "outputs": [],
   "source": [
    "from sklearn.datasets import load_iris\n",
    "import pandas as pd\n",
    "\n",
    "# Load the Iris dataset\n",
    "iris = load_iris()\n",
    "\n",
    "# Convert to DataFrame for easier manipulation\n",
    "iris_df = pd.DataFrame(iris.data, columns=iris.feature_names)\n",
    "iris_df['species'] = iris.target\n",
    "species_mapping = dict(zip(range(3), iris.target_names))\n",
    "iris_df['species'] = iris_df['species'].map(species_mapping)"
   ]
  },
  {
   "cell_type": "code",
   "execution_count": 21,
   "metadata": {},
   "outputs": [
    {
     "data": {
      "text/html": [
       "<div>\n",
       "<style scoped>\n",
       "    .dataframe tbody tr th:only-of-type {\n",
       "        vertical-align: middle;\n",
       "    }\n",
       "\n",
       "    .dataframe tbody tr th {\n",
       "        vertical-align: top;\n",
       "    }\n",
       "\n",
       "    .dataframe thead th {\n",
       "        text-align: right;\n",
       "    }\n",
       "</style>\n",
       "<table border=\"1\" class=\"dataframe\">\n",
       "  <thead>\n",
       "    <tr style=\"text-align: right;\">\n",
       "      <th></th>\n",
       "      <th>sepal length (cm)</th>\n",
       "      <th>sepal width (cm)</th>\n",
       "      <th>petal length (cm)</th>\n",
       "      <th>petal width (cm)</th>\n",
       "      <th>species_setosa</th>\n",
       "      <th>species_versicolor</th>\n",
       "      <th>species_virginica</th>\n",
       "    </tr>\n",
       "  </thead>\n",
       "  <tbody>\n",
       "    <tr>\n",
       "      <th>116</th>\n",
       "      <td>6.5</td>\n",
       "      <td>3.0</td>\n",
       "      <td>5.5</td>\n",
       "      <td>1.8</td>\n",
       "      <td>False</td>\n",
       "      <td>False</td>\n",
       "      <td>True</td>\n",
       "    </tr>\n",
       "    <tr>\n",
       "      <th>42</th>\n",
       "      <td>4.4</td>\n",
       "      <td>3.2</td>\n",
       "      <td>1.3</td>\n",
       "      <td>0.2</td>\n",
       "      <td>True</td>\n",
       "      <td>False</td>\n",
       "      <td>False</td>\n",
       "    </tr>\n",
       "    <tr>\n",
       "      <th>90</th>\n",
       "      <td>5.5</td>\n",
       "      <td>2.6</td>\n",
       "      <td>4.4</td>\n",
       "      <td>1.2</td>\n",
       "      <td>False</td>\n",
       "      <td>True</td>\n",
       "      <td>False</td>\n",
       "    </tr>\n",
       "    <tr>\n",
       "      <th>60</th>\n",
       "      <td>5.0</td>\n",
       "      <td>2.0</td>\n",
       "      <td>3.5</td>\n",
       "      <td>1.0</td>\n",
       "      <td>False</td>\n",
       "      <td>True</td>\n",
       "      <td>False</td>\n",
       "    </tr>\n",
       "    <tr>\n",
       "      <th>114</th>\n",
       "      <td>5.8</td>\n",
       "      <td>2.8</td>\n",
       "      <td>5.1</td>\n",
       "      <td>2.4</td>\n",
       "      <td>False</td>\n",
       "      <td>False</td>\n",
       "      <td>True</td>\n",
       "    </tr>\n",
       "  </tbody>\n",
       "</table>\n",
       "</div>"
      ],
      "text/plain": [
       "     sepal length (cm)  sepal width (cm)  petal length (cm)  petal width (cm)  \\\n",
       "116                6.5               3.0                5.5               1.8   \n",
       "42                 4.4               3.2                1.3               0.2   \n",
       "90                 5.5               2.6                4.4               1.2   \n",
       "60                 5.0               2.0                3.5               1.0   \n",
       "114                5.8               2.8                5.1               2.4   \n",
       "\n",
       "     species_setosa  species_versicolor  species_virginica  \n",
       "116           False               False               True  \n",
       "42             True               False              False  \n",
       "90            False                True              False  \n",
       "60            False                True              False  \n",
       "114           False               False               True  "
      ]
     },
     "execution_count": 21,
     "metadata": {},
     "output_type": "execute_result"
    }
   ],
   "source": [
    "# One-hot encode the 'species' column\n",
    "species_encoded = pd.get_dummies(iris_df['species'], prefix='species')\n",
    "iris_df_encoded = pd.concat([iris_df.drop('species', axis=1), species_encoded], axis=1)\n",
    "train_y = species_encoded.to_numpy()\n",
    "\n",
    "iris_df_encoded.sample(5)"
   ]
  },
  {
   "cell_type": "code",
   "execution_count": 22,
   "metadata": {},
   "outputs": [],
   "source": [
    "df_x = iris_df_encoded.drop(['species_setosa', 'species_versicolor', 'species_virginica'], axis=1).to_numpy()\n",
    "df_y = iris_df_encoded[['species_setosa', 'species_versicolor', 'species_virginica']].to_numpy()"
   ]
  },
  {
   "cell_type": "code",
   "execution_count": 23,
   "metadata": {},
   "outputs": [
    {
     "name": "stdout",
     "output_type": "stream",
     "text": [
      "(105, 4) (105, 3)\n"
     ]
    }
   ],
   "source": [
    "from sklearn.model_selection import train_test_split\n",
    "\n",
    "train_x, test_x, train_y, test_y = train_test_split(df_x, df_y, test_size=0.3, random_state=42)\n",
    "print(train_x.shape, train_y.shape)"
   ]
  },
  {
   "cell_type": "code",
   "execution_count": 27,
   "metadata": {},
   "outputs": [
    {
     "name": "stdout",
     "output_type": "stream",
     "text": [
      "total_loss 39.91270163920892\n",
      "total_loss 34.89389408326427\n",
      "total_loss 34.893063201132435\n",
      "total_loss 34.89002188388195\n",
      "total_loss 34.83901723774145\n",
      "total_loss 18.560519190401493\n",
      "total_loss 11.293708784766057\n",
      "total_loss 3.9603502113184073\n",
      "total_loss 2.7221118203705075\n",
      "total_loss 2.6348439648215853\n"
     ]
    }
   ],
   "source": [
    "# Model for Classification\n",
    "nn_model = NeuralNetwork() # To make this more make sense, change MSEloss to CrossEntropyLoss and Final layer to softmax\n",
    "nn_model.add_layer(NeuronNetworkLayer(4, 48, 'relu', 0.01))\n",
    "nn_model.add_layer(NeuronNetworkLayer(48, 32, 'relu', 0.01))\n",
    "nn_model.add_layer(NeuronNetworkLayer(32, 8, 'relu', 0.01))\n",
    "nn_model.add_layer(NeuronNetworkLayer(8, 3, 'sigmoid', 0.1))\n",
    "\n",
    "total_loss = nn_model.train(2000, train_x, train_y, 0.005, 200)"
   ]
  },
  {
   "cell_type": "code",
   "execution_count": 28,
   "metadata": {},
   "outputs": [],
   "source": [
    "def prediction_accuracy(nn_model, train_x, train_y):\n",
    "\n",
    "  correct=0\n",
    "  for i in range(len(train_x)):\n",
    "    prediction = nn_model.forward(train_x[i])\n",
    "    prediction_index = np.argmax(prediction)\n",
    "    y_label = np.argmax(train_y[i])\n",
    "    if y_label == prediction_index:\n",
    "      correct=correct+1\n",
    "\n",
    "  return correct/len(train_y)"
   ]
  },
  {
   "cell_type": "code",
   "execution_count": 29,
   "metadata": {},
   "outputs": [
    {
     "data": {
      "text/plain": [
       "0.9714285714285714"
      ]
     },
     "execution_count": 29,
     "metadata": {},
     "output_type": "execute_result"
    }
   ],
   "source": [
    "train_accuracy = prediction_accuracy(nn_model, train_x, train_y)\n",
    "train_accuracy"
   ]
  },
  {
   "cell_type": "code",
   "execution_count": 30,
   "metadata": {},
   "outputs": [
    {
     "data": {
      "text/plain": [
       "0.9777777777777777"
      ]
     },
     "execution_count": 30,
     "metadata": {},
     "output_type": "execute_result"
    }
   ],
   "source": [
    "test_accuracy = prediction_accuracy(nn_model, test_x, test_y)\n",
    "test_accuracy"
   ]
  }
 ],
 "metadata": {
  "kernelspec": {
   "display_name": "aitech",
   "language": "python",
   "name": "python3"
  },
  "language_info": {
   "codemirror_mode": {
    "name": "ipython",
    "version": 3
   },
   "file_extension": ".py",
   "mimetype": "text/x-python",
   "name": "python",
   "nbconvert_exporter": "python",
   "pygments_lexer": "ipython3",
   "version": "3.11.9"
  }
 },
 "nbformat": 4,
 "nbformat_minor": 2
}
