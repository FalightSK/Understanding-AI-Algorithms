{
  "cells": [
    {
      "cell_type": "code",
      "execution_count": 1,
      "metadata": {
        "id": "vZ9wQaKTn3ob"
      },
      "outputs": [],
      "source": [
        "import random\n",
        "import matplotlib.pyplot as plt\n",
        "import numpy as np\n",
        "import pandas as pd"
      ]
    },
    {
      "cell_type": "markdown",
      "metadata": {
        "id": "KnM-y4A4n_rQ"
      },
      "source": [
        "# **Linear Regression**\n"
      ]
    },
    {
      "cell_type": "markdown",
      "metadata": {
        "id": "QOOIgz9fV-2-"
      },
      "source": [
        "### Linear regression with 1 feature"
      ]
    },
    {
      "cell_type": "code",
      "execution_count": 2,
      "metadata": {
        "id": "Ub5FxH2HoAAi"
      },
      "outputs": [],
      "source": [
        "# Sample data\n",
        "X = [1, 2, 3, 4, 5]\n",
        "y = [2, 3, 4, 5, 6]"
      ]
    },
    {
      "cell_type": "code",
      "execution_count": 3,
      "metadata": {
        "id": "FaGD9aSmkkrG"
      },
      "outputs": [
        {
          "data": {
            "text/plain": [
              "array([ 0.2788536 , -0.94997849])"
            ]
          },
          "execution_count": 3,
          "metadata": {},
          "output_type": "execute_result"
        }
      ],
      "source": [
        "def generateRandomNumber(randomSeed):\n",
        "  random.seed(randomSeed)\n",
        "  # Generate two random numbers by using random.random() and scale theta to be between -1 and + 1\n",
        "  thetaArray = np.array([random.random() * 2 - 1 for i in range(2)])\n",
        "  return thetaArray\n",
        "\n",
        "generateRandomNumber(42)"
      ]
    },
    {
      "cell_type": "code",
      "execution_count": 4,
      "metadata": {
        "id": "ndW0IlyDkoi_"
      },
      "outputs": [
        {
          "data": {
            "text/plain": [
              "array([-0.67112489, -1.62110338, -2.57108187, -3.52106036, -4.47103885])"
            ]
          },
          "execution_count": 4,
          "metadata": {},
          "output_type": "execute_result"
        }
      ],
      "source": [
        "def prediction(theta0, theta1, X):\n",
        "  # From y = m*x + c or prediction = weight * input + bias\n",
        "  h = theta1*np.array(X) + theta0\n",
        "  return h\n",
        "\n",
        "theta0, theta1 = generateRandomNumber(42)\n",
        "h = prediction(theta0, theta1, X)\n",
        "\n",
        "h"
      ]
    },
    {
      "cell_type": "code",
      "execution_count": 5,
      "metadata": {
        "id": "--rmAFexoAFS"
      },
      "outputs": [
        {
          "name": "stdout",
          "output_type": "stream",
          "text": [
            "Loss: 25.391974592335018\n"
          ]
        }
      ],
      "source": [
        "def mseLoss(h, y):\n",
        "  h, y = np.array(h), np.array(y)\n",
        "  loss = np.square(h-y).mean()\n",
        "  # Devided by 2 for easier backpropagation\n",
        "  return loss/2\n",
        "\n",
        "print(\"Loss:\", mseLoss(h, y))"
      ]
    },
    {
      "cell_type": "code",
      "execution_count": 6,
      "metadata": {
        "id": "YQlFKy1rOvSu"
      },
      "outputs": [
        {
          "data": {
            "text/plain": [
              "[np.float64(-6.571081871748231), np.float64(-23.61320259435403)]"
            ]
          },
          "execution_count": 6,
          "metadata": {},
          "output_type": "execute_result"
        }
      ],
      "source": [
        "def gradients(h, y, X):\n",
        "  X = np.array(X)\n",
        "  # Gradient of bias\n",
        "  dTheta0 = (h - y).mean()\n",
        "  # Gradient of weight\n",
        "  dTheta1 = (np.dot(X, (h - y))* 1/X.shape[0])\n",
        "\n",
        "  return [dTheta0, dTheta1]\n",
        "\n",
        "gradients(h, y, X)"
      ]
    },
    {
      "cell_type": "code",
      "execution_count": 7,
      "metadata": {
        "id": "3pGBfX5QSmRR"
      },
      "outputs": [],
      "source": [
        "def updateTheta(theta0, theta1, dTheta0, dTheta1, alpha):\n",
        "  theta0 = theta0 - alpha*dTheta0\n",
        "  theta1 = theta1 - alpha*dTheta1\n",
        "  return [ theta0, theta1 ]"
      ]
    },
    {
      "cell_type": "code",
      "execution_count": 8,
      "metadata": {
        "id": "YLtsMePkSmd5"
      },
      "outputs": [
        {
          "data": {
            "text/plain": [
              "[np.float64(0.3445644156332498), np.float64(-0.7138464636111258)]"
            ]
          },
          "execution_count": 8,
          "metadata": {},
          "output_type": "execute_result"
        }
      ],
      "source": [
        "dTheta0, dTheta1 = gradients(h, y, X)\n",
        "updateTheta(theta0, theta1, dTheta0, dTheta1, 0.01)"
      ]
    },
    {
      "cell_type": "code",
      "execution_count": 9,
      "metadata": {
        "id": "X2wqoipXjOF5"
      },
      "outputs": [
        {
          "data": {
            "text/plain": [
              "[np.float64(2.634842986104686),\n",
              " np.float64(0.6776876875123693),\n",
              " np.float64(0.4789740035396733)]"
            ]
          },
          "execution_count": 9,
          "metadata": {},
          "output_type": "execute_result"
        }
      ],
      "source": [
        "def linearRegression2Param(X, y, iterations, init_theta0=None, init_theta1=None):\n",
        "  if init_theta0 and init_theta1:\n",
        "    theta0 = init_theta0\n",
        "    theta1 = init_theta1\n",
        "  else:\n",
        "    theta0, theta1 = generateRandomNumber(42)\n",
        "  loss = None\n",
        "\n",
        "  for epoch in range(iterations):\n",
        "    h = prediction(theta0, theta1, X)\n",
        "    dtheta0, dtheta1 = gradients(h, y, X)\n",
        "    theta0, theta1 = updateTheta(theta0, theta1, dtheta0, dtheta1, 0.01)\n",
        "    loss = mseLoss(h, y)\n",
        "\n",
        "  return [loss, theta0, theta1]\n",
        "\n",
        "linearRegression2Param(X,y,10)"
      ]
    },
    {
      "cell_type": "markdown",
      "metadata": {
        "id": "0FwL00DaY981"
      },
      "source": [
        "Check the result by plotting to see how the plot changes."
      ]
    },
    {
      "cell_type": "code",
      "execution_count": 10,
      "metadata": {
        "id": "Q5LcGS-tYVKY"
      },
      "outputs": [
        {
          "data": {
            "image/png": "[encoded data removed]",
            "text/plain": [
              "<Figure size 1000x700 with 6 Axes>"
            ]
          },
          "metadata": {},
          "output_type": "display_data"
        }
      ],
      "source": [
        "def plotResult(X,y,theta1, theta0, row=2, col=3):\n",
        "  \n",
        "  fig, axes = plt.subplots(row, col, figsize=(10, 7))\n",
        "  theta0, theta1 = None, None\n",
        "  \n",
        "  for i in range(row):\n",
        "    for j in range(col):\n",
        "      loss, theta0, theta1 = linearRegression2Param(X, y, (i*15) + ((j+1)*5))\n",
        "      predicted_y = prediction(theta0, theta1, X)\n",
        "      \n",
        "      axes[i][j].scatter(X, y, color='blue', label='Data Points')\n",
        "      axes[i][j].plot(X, predicted_y, color='red', label='Predict')\n",
        "      axes[i][j].set_title(f\"iteration {(i*15) + ((j+1)*5)}\")\n",
        "      \n",
        "  plt.show()\n",
        "  \n",
        "loss, theta0, theta1 = linearRegression2Param(X, y, 10)\n",
        "plotResult(X,y,theta1, theta0)"
      ]
    },
    {
      "cell_type": "markdown",
      "metadata": {
        "id": "abbVDQDvWaCS"
      },
      "source": [
        "### Linear regression with Multiple Features using Matrices and Linear Algebra"
      ]
    },
    {
      "cell_type": "code",
      "execution_count": 11,
      "metadata": {
        "id": "zNTMNub_hZb6"
      },
      "outputs": [],
      "source": [
        "num_samples = 10\n",
        "\n",
        "mean_vector = [2, 1, 3]  # Example values, adjust as needed\n",
        "\n",
        "# Covariance matrix for 3 dimensions\n",
        "covariance_matrix = [[1, 0.75, 0.5],  # Adjust these values as needed\n",
        "                     [0.75, 1, 0.25],\n",
        "                     [0.5, 0.25, 1]]\n",
        "\n",
        "np.random.seed(42)\n",
        "x_0 = np.random.multivariate_normal(mean_vector, covariance_matrix, num_samples)\n",
        "\n",
        "X = np.hstack((np.ones((num_samples, 1)), x_0))\n",
        "\n",
        "targetTheta = [1.5, 2, 3, -1]\n",
        "y = np.matmul(X, targetTheta)"
      ]
    },
    {
      "cell_type": "code",
      "execution_count": 12,
      "metadata": {
        "id": "EoggVkTwhp3Q"
      },
      "outputs": [],
      "source": [
        "def generateRandomNumber_nFeatures(randomSeed, n):\n",
        "  # Generate the theta array using random.random()\n",
        "  random.seed(randomSeed)\n",
        "  thetaArray = np.array([random.random() * 2 - 1 for i in range(n)])\n",
        "\n",
        "  return thetaArray"
      ]
    },
    {
      "cell_type": "code",
      "execution_count": 13,
      "metadata": {
        "id": "a1GCpBD6jBQR"
      },
      "outputs": [
        {
          "data": {
            "text/plain": [
              "array([-3.01394892, -1.23419763, -1.01173445, -2.83264713, -3.31354378,\n",
              "       -4.79332304, -5.54321629, -3.9163548 , -4.46748003, -3.14126657])"
            ]
          },
          "execution_count": 13,
          "metadata": {},
          "output_type": "execute_result"
        }
      ],
      "source": [
        "def prediction_nFeatures(thetaArray, X):\n",
        "  # prediction = 1 * bias + x1 * theta1, x2 * theta2 + ...\n",
        "  h = np.dot(X, thetaArray)\n",
        "  return h\n",
        "\n",
        "thetaArray = generateRandomNumber_nFeatures(42,4)\n",
        "h = prediction_nFeatures(thetaArray, X)\n",
        "h"
      ]
    },
    {
      "cell_type": "code",
      "execution_count": 14,
      "metadata": {
        "id": "8XdUo3Yyk4C2"
      },
      "outputs": [
        {
          "data": {
            "text/plain": [
              "np.float64(30.199420142208574)"
            ]
          },
          "execution_count": 14,
          "metadata": {},
          "output_type": "execute_result"
        }
      ],
      "source": [
        "def mseLoss_nFeatures(h, y):\n",
        "  loss = np.square(h-y).mean()\n",
        "  return loss/2\n",
        "\n",
        "mseLoss_nFeatures(h,y)"
      ]
    },
    {
      "cell_type": "code",
      "execution_count": 15,
      "metadata": {
        "id": "4ZBMSridrVU3"
      },
      "outputs": [
        {
          "data": {
            "text/plain": [
              "array([ -6.76533528, -13.63978924,  -6.53866163, -23.87364679])"
            ]
          },
          "execution_count": 15,
          "metadata": {},
          "output_type": "execute_result"
        }
      ],
      "source": [
        "def gradients_nFeatures(h, y, X):\n",
        "  # dThetaN = x1 * ThetaN + x2 * ThetaN + ...\n",
        "  dThetaArray = (np.dot(X.T, (h - y))* 1/X.shape[0])\n",
        "  return dThetaArray\n",
        "\n",
        "gradients_nFeatures(h, y, X)"
      ]
    },
    {
      "cell_type": "code",
      "execution_count": 16,
      "metadata": {
        "id": "mjQNvKr9xVq0"
      },
      "outputs": [
        {
          "data": {
            "text/plain": [
              "array([ 0.34650695, -0.8135806 , -0.38455475, -0.31484206])"
            ]
          },
          "execution_count": 16,
          "metadata": {},
          "output_type": "execute_result"
        }
      ],
      "source": [
        "def updateTheta_nFeatures( thetaArray, dThetaArray, learning_rate):\n",
        "  # Backpropagation\n",
        "  thetaArrayUpdated = thetaArray - learning_rate*dThetaArray\n",
        "  return thetaArrayUpdated\n",
        "\n",
        "thetaArrayUpdated = updateTheta_nFeatures( thetaArray, gradients_nFeatures(h, y, X), 0.01)\n",
        "thetaArrayUpdated"
      ]
    },
    {
      "cell_type": "code",
      "execution_count": 17,
      "metadata": {
        "id": "_1oVclLuqt0y"
      },
      "outputs": [
        {
          "name": "stdout",
          "output_type": "stream",
          "text": [
            "4.377412803144978 [ 0.62008549 -0.19693099 -0.0540215   0.66186507]\n"
          ]
        }
      ],
      "source": [
        "def linearRegressionMultiParam(X, y, iterations, learning_rate):\n",
        "  thetaArray = generateRandomNumber_nFeatures(42, X.shape[1])\n",
        "  loss = None\n",
        "\n",
        "  for epoch in range(iterations):\n",
        "    h = prediction_nFeatures(thetaArray, X)\n",
        "    dThetaArray = gradients_nFeatures(h, y, X)\n",
        "    thetaArray = updateTheta_nFeatures(thetaArray, dThetaArray, learning_rate)\n",
        "    loss = mseLoss_nFeatures(h, y)\n",
        "\n",
        "  return [loss, thetaArray]\n",
        "\n",
        "loss, thetaArray = linearRegressionMultiParam(X, y, 10, 0.01)\n",
        "print(loss, thetaArray)"
      ]
    },
    {
      "cell_type": "markdown",
      "metadata": {
        "id": "xeDLwMl4HgbE"
      },
      "source": [
        "### Apply to Boston Housing Dataset for Price Prediction"
      ]
    },
    {
      "cell_type": "code",
      "execution_count": 18,
      "metadata": {
        "id": "Bh1X-JchG0nz"
      },
      "outputs": [],
      "source": [
        "def readBostonHousingCsvFromFile():\n",
        "  file_path = 'housing.csv'  # Replace with your file path\n",
        "\n",
        "  # Read the file line by line\n",
        "  with open(file_path, 'r') as file:\n",
        "      lines = file.readlines()\n",
        "\n",
        "  # Turn the csv file into a datframe\n",
        "  df = pd.read_csv(file_path, sep='\\s+', names=['CRIM', 'ZN', 'INDUS', 'CHAS', 'NOX', 'RM', 'AGE', 'DIS', 'RAD', 'TAX', 'PTRATIO', 'B', 'LSTAT', 'MEDV'])\n",
        "  return df\n",
        "\n",
        "df = readBostonHousingCsvFromFile()"
      ]
    },
    {
      "cell_type": "code",
      "execution_count": 19,
      "metadata": {
        "id": "rFFY2-EcUVP-"
      },
      "outputs": [
        {
          "data": {
            "text/html": [
              "<div>\n",
              "<style scoped>\n",
              "    .dataframe tbody tr th:only-of-type {\n",
              "        vertical-align: middle;\n",
              "    }\n",
              "\n",
              "    .dataframe tbody tr th {\n",
              "        vertical-align: top;\n",
              "    }\n",
              "\n",
              "    .dataframe thead th {\n",
              "        text-align: right;\n",
              "    }\n",
              "</style>\n",
              "<table border=\"1\" class=\"dataframe\">\n",
              "  <thead>\n",
              "    <tr style=\"text-align: right;\">\n",
              "      <th></th>\n",
              "      <th>CRIM</th>\n",
              "      <th>ZN</th>\n",
              "      <th>INDUS</th>\n",
              "      <th>CHAS</th>\n",
              "      <th>NOX</th>\n",
              "      <th>RM</th>\n",
              "      <th>AGE</th>\n",
              "      <th>DIS</th>\n",
              "      <th>RAD</th>\n",
              "      <th>TAX</th>\n",
              "      <th>PTRATIO</th>\n",
              "      <th>B</th>\n",
              "      <th>LSTAT</th>\n",
              "      <th>MEDV</th>\n",
              "    </tr>\n",
              "  </thead>\n",
              "  <tbody>\n",
              "    <tr>\n",
              "      <th>83</th>\n",
              "      <td>0.03551</td>\n",
              "      <td>25.0</td>\n",
              "      <td>4.86</td>\n",
              "      <td>0</td>\n",
              "      <td>0.426</td>\n",
              "      <td>6.167</td>\n",
              "      <td>46.7</td>\n",
              "      <td>5.4007</td>\n",
              "      <td>4</td>\n",
              "      <td>281.0</td>\n",
              "      <td>19.0</td>\n",
              "      <td>390.64</td>\n",
              "      <td>7.51</td>\n",
              "      <td>22.9</td>\n",
              "    </tr>\n",
              "    <tr>\n",
              "      <th>81</th>\n",
              "      <td>0.04462</td>\n",
              "      <td>25.0</td>\n",
              "      <td>4.86</td>\n",
              "      <td>0</td>\n",
              "      <td>0.426</td>\n",
              "      <td>6.619</td>\n",
              "      <td>70.4</td>\n",
              "      <td>5.4007</td>\n",
              "      <td>4</td>\n",
              "      <td>281.0</td>\n",
              "      <td>19.0</td>\n",
              "      <td>395.63</td>\n",
              "      <td>7.22</td>\n",
              "      <td>23.9</td>\n",
              "    </tr>\n",
              "    <tr>\n",
              "      <th>265</th>\n",
              "      <td>0.76162</td>\n",
              "      <td>20.0</td>\n",
              "      <td>3.97</td>\n",
              "      <td>0</td>\n",
              "      <td>0.647</td>\n",
              "      <td>5.560</td>\n",
              "      <td>62.8</td>\n",
              "      <td>1.9865</td>\n",
              "      <td>5</td>\n",
              "      <td>264.0</td>\n",
              "      <td>13.0</td>\n",
              "      <td>392.40</td>\n",
              "      <td>10.45</td>\n",
              "      <td>22.8</td>\n",
              "    </tr>\n",
              "    <tr>\n",
              "      <th>463</th>\n",
              "      <td>5.82115</td>\n",
              "      <td>0.0</td>\n",
              "      <td>18.10</td>\n",
              "      <td>0</td>\n",
              "      <td>0.713</td>\n",
              "      <td>6.513</td>\n",
              "      <td>89.9</td>\n",
              "      <td>2.8016</td>\n",
              "      <td>24</td>\n",
              "      <td>666.0</td>\n",
              "      <td>20.2</td>\n",
              "      <td>393.82</td>\n",
              "      <td>10.29</td>\n",
              "      <td>20.2</td>\n",
              "    </tr>\n",
              "    <tr>\n",
              "      <th>165</th>\n",
              "      <td>2.92400</td>\n",
              "      <td>0.0</td>\n",
              "      <td>19.58</td>\n",
              "      <td>0</td>\n",
              "      <td>0.605</td>\n",
              "      <td>6.101</td>\n",
              "      <td>93.0</td>\n",
              "      <td>2.2834</td>\n",
              "      <td>5</td>\n",
              "      <td>403.0</td>\n",
              "      <td>14.7</td>\n",
              "      <td>240.16</td>\n",
              "      <td>9.81</td>\n",
              "      <td>25.0</td>\n",
              "    </tr>\n",
              "  </tbody>\n",
              "</table>\n",
              "</div>"
            ],
            "text/plain": [
              "        CRIM    ZN  INDUS  CHAS    NOX     RM   AGE     DIS  RAD    TAX  \\\n",
              "83   0.03551  25.0   4.86     0  0.426  6.167  46.7  5.4007    4  281.0   \n",
              "81   0.04462  25.0   4.86     0  0.426  6.619  70.4  5.4007    4  281.0   \n",
              "265  0.76162  20.0   3.97     0  0.647  5.560  62.8  1.9865    5  264.0   \n",
              "463  5.82115   0.0  18.10     0  0.713  6.513  89.9  2.8016   24  666.0   \n",
              "165  2.92400   0.0  19.58     0  0.605  6.101  93.0  2.2834    5  403.0   \n",
              "\n",
              "     PTRATIO       B  LSTAT  MEDV  \n",
              "83      19.0  390.64   7.51  22.9  \n",
              "81      19.0  395.63   7.22  23.9  \n",
              "265     13.0  392.40  10.45  22.8  \n",
              "463     20.2  393.82  10.29  20.2  \n",
              "165     14.7  240.16   9.81  25.0  "
            ]
          },
          "execution_count": 19,
          "metadata": {},
          "output_type": "execute_result"
        }
      ],
      "source": [
        "# Change column names\n",
        "df.columns = ['CRIM', 'ZN', 'INDUS', 'CHAS', 'NOX', 'RM', 'AGE', 'DIS', 'RAD', 'TAX', 'PTRATIO', 'B', 'LSTAT', 'MEDV']\n",
        "df.sample(5)"
      ]
    },
    {
      "cell_type": "code",
      "execution_count": 20,
      "metadata": {
        "id": "y9cJ0Rhd3Nxk"
      },
      "outputs": [],
      "source": [
        "from sklearn.model_selection import train_test_split\n",
        "\n",
        "# Features and target\n",
        "y = df['MEDV']  # Series with the target variable\n",
        "X = df.drop( ['MEDV'], axis=1)\n",
        "\n",
        "# Split the data into training and testing sets\n",
        "df_X_train, df_X_test, df_y_train, df_y_test = train_test_split(X, y, test_size=0.2, random_state=42)\n",
        "\n",
        "X = df_X_train.to_numpy()\n",
        "y = df_y_train.to_numpy()\n",
        "\n",
        "X = np.hstack((np.ones(( len(y), 1)), X))"
      ]
    },
    {
      "cell_type": "code",
      "execution_count": 21,
      "metadata": {
        "id": "wtSVnrT0au1c"
      },
      "outputs": [],
      "source": [
        "def trainModel(iterations, learning_rate):\n",
        "  loss, thetaArray = linearRegressionMultiParam(X,y,iterations, learning_rate)\n",
        "  return loss, thetaArray"
      ]
    },
    {
      "cell_type": "code",
      "execution_count": 22,
      "metadata": {
        "id": "D5ewD93dbMap"
      },
      "outputs": [
        {
          "name": "stdout",
          "output_type": "stream",
          "text": [
            "60.762348161119945\n"
          ]
        }
      ],
      "source": [
        "iterations = 500\n",
        "learning_rate = 6e-6\n",
        "trainResult, thetaArray = trainModel( iterations,learning_rate )\n",
        "print(trainResult)"
      ]
    },
    {
      "cell_type": "markdown",
      "metadata": {
        "id": "ioN1aRZecR0z"
      },
      "source": [
        "Make prediction with the test data set."
      ]
    },
    {
      "cell_type": "code",
      "execution_count": 23,
      "metadata": {
        "id": "BaPuYCq4XAp7"
      },
      "outputs": [
        {
          "data": {
            "text/plain": [
              "(14,)"
            ]
          },
          "execution_count": 23,
          "metadata": {},
          "output_type": "execute_result"
        }
      ],
      "source": [
        "X_test = df_X_test.to_numpy()\n",
        "y_test = df_y_test.to_numpy()\n",
        "X_test = np.hstack((np.ones(( len(y_test), 1)), X_test))\n",
        "\n",
        "thetaArray.shape"
      ]
    },
    {
      "cell_type": "code",
      "execution_count": 24,
      "metadata": {
        "id": "rPR6Gp8oc2ql"
      },
      "outputs": [
        {
          "data": {
            "text/plain": [
              "np.float64(78.7641919630341)"
            ]
          },
          "execution_count": 24,
          "metadata": {},
          "output_type": "execute_result"
        }
      ],
      "source": [
        "h = prediction_nFeatures(thetaArray, X_test)\n",
        "\n",
        "loss = mseLoss_nFeatures(h, y_test)\n",
        "loss"
      ]
    },
    {
      "cell_type": "code",
      "execution_count": null,
      "metadata": {},
      "outputs": [],
      "source": []
    }
  ],
  "metadata": {
    "colab": {
      "provenance": []
    },
    "kernelspec": {
      "display_name": "Python 3",
      "name": "python3"
    },
    "language_info": {
      "codemirror_mode": {
        "name": "ipython",
        "version": 3
      },
      "file_extension": ".py",
      "mimetype": "text/x-python",
      "name": "python",
      "nbconvert_exporter": "python",
      "pygments_lexer": "ipython3",
      "version": "3.11.9"
    }
  },
  "nbformat": 4,
  "nbformat_minor": 0
}
