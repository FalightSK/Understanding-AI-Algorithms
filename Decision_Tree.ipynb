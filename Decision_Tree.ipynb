{
 "cells": [
  {
   "cell_type": "code",
   "execution_count": 1,
   "metadata": {},
   "outputs": [],
   "source": [
    "import pandas as pd\n",
    "import math\n",
    "import numpy as np"
   ]
  },
  {
   "cell_type": "markdown",
   "metadata": {},
   "source": [
    "### Understanding Feature Selection by Entropy"
   ]
  },
  {
   "cell_type": "code",
   "execution_count": 2,
   "metadata": {},
   "outputs": [
    {
     "data": {
      "text/html": [
       "<div>\n",
       "<style scoped>\n",
       "    .dataframe tbody tr th:only-of-type {\n",
       "        vertical-align: middle;\n",
       "    }\n",
       "\n",
       "    .dataframe tbody tr th {\n",
       "        vertical-align: top;\n",
       "    }\n",
       "\n",
       "    .dataframe thead th {\n",
       "        text-align: right;\n",
       "    }\n",
       "</style>\n",
       "<table border=\"1\" class=\"dataframe\">\n",
       "  <thead>\n",
       "    <tr style=\"text-align: right;\">\n",
       "      <th></th>\n",
       "      <th>type</th>\n",
       "      <th>color</th>\n",
       "      <th>tyre</th>\n",
       "      <th>doors</th>\n",
       "      <th>label</th>\n",
       "    </tr>\n",
       "  </thead>\n",
       "  <tbody>\n",
       "    <tr>\n",
       "      <th>7</th>\n",
       "      <td>minivan</td>\n",
       "      <td>red</td>\n",
       "      <td>black</td>\n",
       "      <td>4</td>\n",
       "      <td>0</td>\n",
       "    </tr>\n",
       "    <tr>\n",
       "      <th>3</th>\n",
       "      <td>suv</td>\n",
       "      <td>green</td>\n",
       "      <td>white</td>\n",
       "      <td>4</td>\n",
       "      <td>1</td>\n",
       "    </tr>\n",
       "    <tr>\n",
       "      <th>2</th>\n",
       "      <td>car</td>\n",
       "      <td>blue</td>\n",
       "      <td>white</td>\n",
       "      <td>2</td>\n",
       "      <td>1</td>\n",
       "    </tr>\n",
       "    <tr>\n",
       "      <th>11</th>\n",
       "      <td>car</td>\n",
       "      <td>blue</td>\n",
       "      <td>black</td>\n",
       "      <td>4</td>\n",
       "      <td>0</td>\n",
       "    </tr>\n",
       "    <tr>\n",
       "      <th>6</th>\n",
       "      <td>car</td>\n",
       "      <td>green</td>\n",
       "      <td>white</td>\n",
       "      <td>4</td>\n",
       "      <td>0</td>\n",
       "    </tr>\n",
       "  </tbody>\n",
       "</table>\n",
       "</div>"
      ],
      "text/plain": [
       "       type  color   tyre  doors  label\n",
       "7   minivan    red  black      4      0\n",
       "3       suv  green  white      4      1\n",
       "2       car   blue  white      2      1\n",
       "11      car   blue  black      4      0\n",
       "6       car  green  white      4      0"
      ]
     },
     "execution_count": 2,
     "metadata": {},
     "output_type": "execute_result"
    }
   ],
   "source": [
    "df = pd.read_csv('car_dataset.csv')\n",
    "df.columns = [col.lower() for col in df.columns]\n",
    "df.sample(5)"
   ]
  },
  {
   "cell_type": "code",
   "execution_count": 3,
   "metadata": {},
   "outputs": [
    {
     "data": {
      "text/plain": [
       "{0: 9, 1: 5}"
      ]
     },
     "execution_count": 3,
     "metadata": {},
     "output_type": "execute_result"
    }
   ],
   "source": [
    "def gen_num_case_dict(df):\n",
    "  feq = df['label'].value_counts().to_dict()\n",
    "  return feq\n",
    "\n",
    "num_case_dict = gen_num_case_dict(df)\n",
    "num_case_dict"
   ]
  },
  {
   "cell_type": "code",
   "execution_count": 4,
   "metadata": {},
   "outputs": [
    {
     "data": {
      "text/plain": [
       "0.9402859586706311"
      ]
     },
     "execution_count": 4,
     "metadata": {},
     "output_type": "execute_result"
    }
   ],
   "source": [
    "def cal_entropy(num_case_dict):\n",
    "  total = 0\n",
    "  for k, d in num_case_dict.items():\n",
    "    total += d\n",
    "\n",
    "  entropy_sum = 0\n",
    "  for k, d in num_case_dict.items():\n",
    "    entropy_sum += - (d/total) * math.log2(d/total) # Tell how data is separate | greater = more equality\n",
    "\n",
    "  return entropy_sum\n",
    "\n",
    "cal_entropy(num_case_dict)"
   ]
  },
  {
   "cell_type": "code",
   "execution_count": 5,
   "metadata": {},
   "outputs": [
    {
     "data": {
      "text/html": [
       "<div>\n",
       "<style scoped>\n",
       "    .dataframe tbody tr th:only-of-type {\n",
       "        vertical-align: middle;\n",
       "    }\n",
       "\n",
       "    .dataframe tbody tr th {\n",
       "        vertical-align: top;\n",
       "    }\n",
       "\n",
       "    .dataframe thead th {\n",
       "        text-align: right;\n",
       "    }\n",
       "</style>\n",
       "<table border=\"1\" class=\"dataframe\">\n",
       "  <thead>\n",
       "    <tr style=\"text-align: right;\">\n",
       "      <th></th>\n",
       "      <th>type</th>\n",
       "      <th>color</th>\n",
       "      <th>tyre</th>\n",
       "      <th>doors</th>\n",
       "      <th>label</th>\n",
       "    </tr>\n",
       "  </thead>\n",
       "  <tbody>\n",
       "    <tr>\n",
       "      <th>0</th>\n",
       "      <td>suv</td>\n",
       "      <td>red</td>\n",
       "      <td>white</td>\n",
       "      <td>2</td>\n",
       "      <td>1</td>\n",
       "    </tr>\n",
       "    <tr>\n",
       "      <th>4</th>\n",
       "      <td>car</td>\n",
       "      <td>red</td>\n",
       "      <td>black</td>\n",
       "      <td>2</td>\n",
       "      <td>1</td>\n",
       "    </tr>\n",
       "    <tr>\n",
       "      <th>7</th>\n",
       "      <td>minivan</td>\n",
       "      <td>red</td>\n",
       "      <td>black</td>\n",
       "      <td>4</td>\n",
       "      <td>0</td>\n",
       "    </tr>\n",
       "    <tr>\n",
       "      <th>10</th>\n",
       "      <td>suv</td>\n",
       "      <td>red</td>\n",
       "      <td>black</td>\n",
       "      <td>2</td>\n",
       "      <td>0</td>\n",
       "    </tr>\n",
       "  </tbody>\n",
       "</table>\n",
       "</div>"
      ],
      "text/plain": [
       "       type color   tyre  doors  label\n",
       "0       suv   red  white      2      1\n",
       "4       car   red  black      2      1\n",
       "7   minivan   red  black      4      0\n",
       "10      suv   red  black      2      0"
      ]
     },
     "metadata": {},
     "output_type": "display_data"
    },
    {
     "name": "stdout",
     "output_type": "stream",
     "text": [
      "{1: 2, 0: 2}\n",
      "entropy_red 1.0\n"
     ]
    },
    {
     "data": {
      "text/plain": [
       "0.2857142857142857"
      ]
     },
     "execution_count": 5,
     "metadata": {},
     "output_type": "execute_result"
    }
   ],
   "source": [
    "df_red = df[ df['color'] == 'red']\n",
    "\n",
    "display(df_red)\n",
    "\n",
    "num_case_dict_red = gen_num_case_dict(df_red)\n",
    "\n",
    "print(num_case_dict_red)\n",
    "\n",
    "entropy_red = cal_entropy(num_case_dict_red)\n",
    "\n",
    "print('entropy_red', entropy_red) # entropy 1 is not a good feature for classification\n",
    "\n",
    "entropy_red_weighted = (len(df_red)/len(df)) * entropy_red\n",
    "\n",
    "# greater is better for spliting\n",
    "entropy_red_weighted"
   ]
  },
  {
   "cell_type": "code",
   "execution_count": 6,
   "metadata": {},
   "outputs": [
    {
     "name": "stdout",
     "output_type": "stream",
     "text": [
      "color: 0.02922256565895487\n",
      "type: 0.19996253177061118\n",
      "door 0.15183550136234159\n",
      "tyre: 0.04812703040826949\n"
     ]
    }
   ],
   "source": [
    "# calculate the entropy gain from a decision tree split using a particular feature on a particular df\n",
    "def cal_entropy_split_gain(df, split_feature):\n",
    "  parent = cal_entropy(gen_num_case_dict(df))\n",
    "\n",
    "  cris = df[split_feature].value_counts().index.to_list()\n",
    "\n",
    "  entropy_gain = 0\n",
    "\n",
    "  for cri in cris:\n",
    "    splited = df[ df[split_feature] == cri ]\n",
    "    feq = gen_num_case_dict(splited)\n",
    "    entropy = cal_entropy(feq)\n",
    "\n",
    "    entropy_gain += (len(splited)/len(df)) * entropy\n",
    "\n",
    "  return parent - entropy_gain\n",
    "\n",
    "print(\"color:\", cal_entropy_split_gain(df, 'color'))\n",
    "print(\"type:\", cal_entropy_split_gain(df, 'type'))\n",
    "print(\"door\", cal_entropy_split_gain(df, 'doors'))\n",
    "print(\"tyre:\", cal_entropy_split_gain(df, 'tyre'))\n",
    "\n",
    "# Seeing that type provide Best split from maximum entropy gain"
   ]
  },
  {
   "cell_type": "code",
   "execution_count": 7,
   "metadata": {},
   "outputs": [
    {
     "data": {
      "text/plain": [
       "'type'"
      ]
     },
     "execution_count": 7,
     "metadata": {},
     "output_type": "execute_result"
    }
   ],
   "source": [
    "# Given the df and available features for conducting split, find the feature that produces maximum entropy gain.\n",
    "def choose_best_split(df, available_feature_array):\n",
    "  mx = int(-1e9)\n",
    "  feature_with_max_entropy_gain = None\n",
    "\n",
    "  for feature in available_feature_array:\n",
    "    temp = cal_entropy_split_gain(df, feature)\n",
    "    if temp > mx:\n",
    "      mx = temp\n",
    "      feature_with_max_entropy_gain = feature\n",
    "\n",
    "  return feature_with_max_entropy_gain\n",
    "\n",
    "columns_list = df.columns.tolist()\n",
    "columns_list.remove('label')\n",
    "best_split_feature = choose_best_split(df, columns_list)\n",
    "best_split_feature"
   ]
  },
  {
   "cell_type": "code",
   "execution_count": 8,
   "metadata": {},
   "outputs": [
    {
     "data": {
      "text/plain": [
       "dict_keys(['suv', 'car', 'minivan'])"
      ]
     },
     "execution_count": 8,
     "metadata": {},
     "output_type": "execute_result"
    }
   ],
   "source": [
    "# Generate a dictionary containing the split key and resulting df due to the split key and split feature.\n",
    "def gen_feature_split_result(df, split_feature):\n",
    "  sub_elems = df[split_feature].unique()\n",
    "\n",
    "  df_split_dict = {}\n",
    "\n",
    "  for sub in sub_elems:\n",
    "    df_split_dict[sub] = df.loc[df[split_feature] == sub]\n",
    "\n",
    "  return df_split_dict\n",
    "\n",
    "df_split_dict = gen_feature_split_result(df, best_split_feature)\n",
    "df_split_dict.keys()"
   ]
  },
  {
   "cell_type": "code",
   "execution_count": 9,
   "metadata": {},
   "outputs": [
    {
     "data": {
      "text/html": [
       "<div>\n",
       "<style scoped>\n",
       "    .dataframe tbody tr th:only-of-type {\n",
       "        vertical-align: middle;\n",
       "    }\n",
       "\n",
       "    .dataframe tbody tr th {\n",
       "        vertical-align: top;\n",
       "    }\n",
       "\n",
       "    .dataframe thead th {\n",
       "        text-align: right;\n",
       "    }\n",
       "</style>\n",
       "<table border=\"1\" class=\"dataframe\">\n",
       "  <thead>\n",
       "    <tr style=\"text-align: right;\">\n",
       "      <th></th>\n",
       "      <th>type</th>\n",
       "      <th>color</th>\n",
       "      <th>tyre</th>\n",
       "      <th>doors</th>\n",
       "      <th>label</th>\n",
       "    </tr>\n",
       "  </thead>\n",
       "  <tbody>\n",
       "    <tr>\n",
       "      <th>0</th>\n",
       "      <td>suv</td>\n",
       "      <td>red</td>\n",
       "      <td>white</td>\n",
       "      <td>2</td>\n",
       "      <td>1</td>\n",
       "    </tr>\n",
       "    <tr>\n",
       "      <th>3</th>\n",
       "      <td>suv</td>\n",
       "      <td>green</td>\n",
       "      <td>white</td>\n",
       "      <td>4</td>\n",
       "      <td>1</td>\n",
       "    </tr>\n",
       "    <tr>\n",
       "      <th>8</th>\n",
       "      <td>suv</td>\n",
       "      <td>green</td>\n",
       "      <td>black</td>\n",
       "      <td>4</td>\n",
       "      <td>0</td>\n",
       "    </tr>\n",
       "    <tr>\n",
       "      <th>9</th>\n",
       "      <td>suv</td>\n",
       "      <td>blue</td>\n",
       "      <td>black</td>\n",
       "      <td>2</td>\n",
       "      <td>0</td>\n",
       "    </tr>\n",
       "    <tr>\n",
       "      <th>10</th>\n",
       "      <td>suv</td>\n",
       "      <td>red</td>\n",
       "      <td>black</td>\n",
       "      <td>2</td>\n",
       "      <td>0</td>\n",
       "    </tr>\n",
       "    <tr>\n",
       "      <th>12</th>\n",
       "      <td>suv</td>\n",
       "      <td>green</td>\n",
       "      <td>black</td>\n",
       "      <td>2</td>\n",
       "      <td>0</td>\n",
       "    </tr>\n",
       "  </tbody>\n",
       "</table>\n",
       "</div>"
      ],
      "text/plain": [
       "   type  color   tyre  doors  label\n",
       "0   suv    red  white      2      1\n",
       "3   suv  green  white      4      1\n",
       "8   suv  green  black      4      0\n",
       "9   suv   blue  black      2      0\n",
       "10  suv    red  black      2      0\n",
       "12  suv  green  black      2      0"
      ]
     },
     "execution_count": 9,
     "metadata": {},
     "output_type": "execute_result"
    }
   ],
   "source": [
    "df_split_dict['suv']"
   ]
  },
  {
   "cell_type": "code",
   "execution_count": 10,
   "metadata": {},
   "outputs": [
    {
     "data": {
      "text/html": [
       "<div>\n",
       "<style scoped>\n",
       "    .dataframe tbody tr th:only-of-type {\n",
       "        vertical-align: middle;\n",
       "    }\n",
       "\n",
       "    .dataframe tbody tr th {\n",
       "        vertical-align: top;\n",
       "    }\n",
       "\n",
       "    .dataframe thead th {\n",
       "        text-align: right;\n",
       "    }\n",
       "</style>\n",
       "<table border=\"1\" class=\"dataframe\">\n",
       "  <thead>\n",
       "    <tr style=\"text-align: right;\">\n",
       "      <th></th>\n",
       "      <th>type</th>\n",
       "      <th>color</th>\n",
       "      <th>tyre</th>\n",
       "      <th>doors</th>\n",
       "      <th>label</th>\n",
       "    </tr>\n",
       "  </thead>\n",
       "  <tbody>\n",
       "    <tr>\n",
       "      <th>5</th>\n",
       "      <td>minivan</td>\n",
       "      <td>blue</td>\n",
       "      <td>white</td>\n",
       "      <td>4</td>\n",
       "      <td>0</td>\n",
       "    </tr>\n",
       "    <tr>\n",
       "      <th>7</th>\n",
       "      <td>minivan</td>\n",
       "      <td>red</td>\n",
       "      <td>black</td>\n",
       "      <td>4</td>\n",
       "      <td>0</td>\n",
       "    </tr>\n",
       "    <tr>\n",
       "      <th>13</th>\n",
       "      <td>minivan</td>\n",
       "      <td>green</td>\n",
       "      <td>white</td>\n",
       "      <td>4</td>\n",
       "      <td>0</td>\n",
       "    </tr>\n",
       "  </tbody>\n",
       "</table>\n",
       "</div>"
      ],
      "text/plain": [
       "       type  color   tyre  doors  label\n",
       "5   minivan   blue  white      4      0\n",
       "7   minivan    red  black      4      0\n",
       "13  minivan  green  white      4      0"
      ]
     },
     "execution_count": 10,
     "metadata": {},
     "output_type": "execute_result"
    }
   ],
   "source": [
    "df_split_dict['minivan']"
   ]
  },
  {
   "cell_type": "code",
   "execution_count": 11,
   "metadata": {},
   "outputs": [
    {
     "data": {
      "text/html": [
       "<div>\n",
       "<style scoped>\n",
       "    .dataframe tbody tr th:only-of-type {\n",
       "        vertical-align: middle;\n",
       "    }\n",
       "\n",
       "    .dataframe tbody tr th {\n",
       "        vertical-align: top;\n",
       "    }\n",
       "\n",
       "    .dataframe thead th {\n",
       "        text-align: right;\n",
       "    }\n",
       "</style>\n",
       "<table border=\"1\" class=\"dataframe\">\n",
       "  <thead>\n",
       "    <tr style=\"text-align: right;\">\n",
       "      <th></th>\n",
       "      <th>type</th>\n",
       "      <th>color</th>\n",
       "      <th>tyre</th>\n",
       "      <th>doors</th>\n",
       "      <th>label</th>\n",
       "    </tr>\n",
       "  </thead>\n",
       "  <tbody>\n",
       "    <tr>\n",
       "      <th>1</th>\n",
       "      <td>car</td>\n",
       "      <td>green</td>\n",
       "      <td>black</td>\n",
       "      <td>2</td>\n",
       "      <td>1</td>\n",
       "    </tr>\n",
       "    <tr>\n",
       "      <th>2</th>\n",
       "      <td>car</td>\n",
       "      <td>blue</td>\n",
       "      <td>white</td>\n",
       "      <td>2</td>\n",
       "      <td>1</td>\n",
       "    </tr>\n",
       "    <tr>\n",
       "      <th>4</th>\n",
       "      <td>car</td>\n",
       "      <td>red</td>\n",
       "      <td>black</td>\n",
       "      <td>2</td>\n",
       "      <td>1</td>\n",
       "    </tr>\n",
       "    <tr>\n",
       "      <th>6</th>\n",
       "      <td>car</td>\n",
       "      <td>green</td>\n",
       "      <td>white</td>\n",
       "      <td>4</td>\n",
       "      <td>0</td>\n",
       "    </tr>\n",
       "    <tr>\n",
       "      <th>11</th>\n",
       "      <td>car</td>\n",
       "      <td>blue</td>\n",
       "      <td>black</td>\n",
       "      <td>4</td>\n",
       "      <td>0</td>\n",
       "    </tr>\n",
       "  </tbody>\n",
       "</table>\n",
       "</div>"
      ],
      "text/plain": [
       "   type  color   tyre  doors  label\n",
       "1   car  green  black      2      1\n",
       "2   car   blue  white      2      1\n",
       "4   car    red  black      2      1\n",
       "6   car  green  white      4      0\n",
       "11  car   blue  black      4      0"
      ]
     },
     "execution_count": 11,
     "metadata": {},
     "output_type": "execute_result"
    }
   ],
   "source": [
    "df_split_dict['car']"
   ]
  },
  {
   "cell_type": "markdown",
   "metadata": {},
   "source": [
    "### Create Tree Stucture"
   ]
  },
  {
   "cell_type": "code",
   "execution_count": 12,
   "metadata": {},
   "outputs": [],
   "source": [
    "class Node:\n",
    "  def __init__(self, df, parent, parent_edge, parent_split_feature, available_features, pred):\n",
    "    self.df = df\n",
    "    self.parent = parent\n",
    "    self.parent_edge = parent_edge\n",
    "    self.children = {}\n",
    "    self.split_feature = None\n",
    "    self.available_features = available_features\n",
    "    self.explored = False\n",
    "    self.predicted_label = pred\n",
    "    if parent is not None:\n",
    "      parent.split_feature = parent_split_feature\n",
    "\n",
    "  def add_child(self, split_key, new_node):\n",
    "    self.children[split_key] = new_node"
   ]
  },
  {
   "cell_type": "code",
   "execution_count": 13,
   "metadata": {},
   "outputs": [],
   "source": [
    "class TreeGraph:\n",
    "  def __init__(self, df, available_features):\n",
    "    self.root = Node(df, None, None, None, available_features, None)\n",
    "    self.nodes = []\n",
    "    self.nodes.append(self.root)\n",
    "\n",
    "  def add_node(self, df, parent_node, parent_edge, parent_split_feature, available_features, pred):\n",
    "    new_node = Node(df, parent_node, parent_edge, parent_split_feature, available_features, pred)\n",
    "    self.nodes.append(new_node)\n",
    "    if parent_node is not None:\n",
    "      parent_node.add_child(  parent_edge, new_node )\n",
    "\n",
    "  def gen_decision_tree(self):\n",
    "    for id, node in enumerate(self.nodes):\n",
    "\n",
    "      # This node already provide the answer\n",
    "      if node.predicted_label is not None:\n",
    "        continue\n",
    "\n",
    "      available_features = node.df.columns.to_list()\n",
    "      available_features.remove('label')\n",
    "\n",
    "      # Here is no features left to split\n",
    "      if len(available_features) == 0:\n",
    "        respones = gen_num_case_dict(node.df)\n",
    "\n",
    "        mx, pred = -1e9, None\n",
    "        for k, d in respones.items():\n",
    "          if mx <= d:\n",
    "            mx = d\n",
    "            pred = k\n",
    "\n",
    "        node.predicted_label = pred\n",
    "        continue\n",
    "\n",
    "      best_split = choose_best_split(node.df, available_features)\n",
    "      df_split_dict = gen_feature_split_result(node.df, best_split)\n",
    "      available_features.remove(best_split)\n",
    "\n",
    "      for edge, sub_df in df_split_dict.items():\n",
    "        respones = gen_num_case_dict(sub_df)\n",
    "\n",
    "        if len(respones) == 1:\n",
    "          self.add_node(sub_df, node, str(edge), best_split, available_features, list(respones.keys())[0])\n",
    "          continue\n",
    "\n",
    "        self.add_node(sub_df, node, str(edge), best_split, available_features, None)"
   ]
  },
  {
   "cell_type": "code",
   "execution_count": 14,
   "metadata": {},
   "outputs": [
    {
     "name": "stdout",
     "output_type": "stream",
     "text": [
      "num of node: 8 \n",
      "root feature: type\n"
     ]
    }
   ],
   "source": [
    "columns_list = df.columns.tolist()\n",
    "columns_list.remove('label')\n",
    "g = TreeGraph(df, columns_list)\n",
    "g.gen_decision_tree()\n",
    "\n",
    "print(\"num of node:\", len(g.nodes), \"\\nroot feature:\", g.root.split_feature)"
   ]
  },
  {
   "cell_type": "code",
   "execution_count": 15,
   "metadata": {},
   "outputs": [],
   "source": [
    "def generate_prediction(df_prediction, treeGraph, printing=False):\n",
    "  for i, query in zip(df_prediction.index, df_prediction.iloc):\n",
    "    curr = treeGraph.root\n",
    "    # display(query)\n",
    "    while curr.predicted_label is None:\n",
    "      edge = query[curr.split_feature]\n",
    "      if printing:\n",
    "        print(curr.split_feature, edge, \"->\", end=\" \")\n",
    "      \n",
    "      if str(edge) in list(curr.children.keys()):\n",
    "        curr = curr.children[str(edge)]\n",
    "      else:\n",
    "        if printing:\n",
    "          print(sorted(curr.children.keys()))\n",
    "        mn = 1e9\n",
    "        mx = -1e9\n",
    "        mx_id = None\n",
    "        data = sorted(curr.children.items())\n",
    "        for k, j in data:\n",
    "          if len(j.df) < mn:\n",
    "            mn = len(j.df)\n",
    "          if len(j.df) > mx:\n",
    "            mx = len(j.df)\n",
    "            mx_id = k\n",
    "        if mx == mn:\n",
    "          curr = data[len(data)//2][1]\n",
    "        else:\n",
    "          curr = curr.children[str(mx_id)]\n",
    "        break\n",
    "    \n",
    "    if printing:\n",
    "      print(curr.predicted_label)\n",
    "    df_prediction.loc[i, 'prediction'] = curr.predicted_label\n",
    "\n",
    "  return df_prediction"
   ]
  },
  {
   "cell_type": "code",
   "execution_count": 16,
   "metadata": {},
   "outputs": [
    {
     "name": "stdout",
     "output_type": "stream",
     "text": [
      "type suv -> tyre white -> 1\n",
      "type car -> doors 2 -> 1\n",
      "type car -> doors 2 -> 1\n",
      "type suv -> tyre white -> 1\n",
      "type car -> doors 2 -> 1\n",
      "type minivan -> 0\n",
      "type car -> doors 4 -> 0\n",
      "type minivan -> 0\n",
      "type suv -> tyre black -> 0\n",
      "type suv -> tyre black -> 0\n",
      "type suv -> tyre black -> 0\n",
      "type car -> doors 4 -> 0\n",
      "type suv -> tyre black -> 0\n",
      "type minivan -> 0\n"
     ]
    }
   ],
   "source": [
    "df_prediction = df.copy()\n",
    "df_prediction['prediction'] = None\n",
    "\n",
    "pd.options.mode.copy_on_write = True\n",
    "prediction_result_df = generate_prediction(df_prediction, g, printing=True)"
   ]
  },
  {
   "cell_type": "code",
   "execution_count": 17,
   "metadata": {},
   "outputs": [
    {
     "data": {
      "text/plain": [
       "1.0"
      ]
     },
     "execution_count": 17,
     "metadata": {},
     "output_type": "execute_result"
    }
   ],
   "source": [
    "def prediction_accuracy(prediction_result_df):\n",
    "  correct = 0\n",
    "  for index, row in prediction_result_df.iterrows():\n",
    "    if row['label'] == row['prediction']:\n",
    "      correct = correct + 1\n",
    "  accuracy = correct / len(prediction_result_df)\n",
    "  return accuracy\n",
    "\n",
    "prediction_accuracy_result = prediction_accuracy(prediction_result_df)\n",
    "prediction_accuracy_result"
   ]
  },
  {
   "cell_type": "markdown",
   "metadata": {},
   "source": [
    "### Test with Proper Dataset"
   ]
  },
  {
   "cell_type": "code",
   "execution_count": 18,
   "metadata": {},
   "outputs": [
    {
     "data": {
      "text/html": [
       "<div>\n",
       "<style scoped>\n",
       "    .dataframe tbody tr th:only-of-type {\n",
       "        vertical-align: middle;\n",
       "    }\n",
       "\n",
       "    .dataframe tbody tr th {\n",
       "        vertical-align: top;\n",
       "    }\n",
       "\n",
       "    .dataframe thead th {\n",
       "        text-align: right;\n",
       "    }\n",
       "</style>\n",
       "<table border=\"1\" class=\"dataframe\">\n",
       "  <thead>\n",
       "    <tr style=\"text-align: right;\">\n",
       "      <th></th>\n",
       "      <th>buying</th>\n",
       "      <th>maintainance</th>\n",
       "      <th>doors</th>\n",
       "      <th>person</th>\n",
       "      <th>luggage_boot</th>\n",
       "      <th>safety</th>\n",
       "      <th>label</th>\n",
       "    </tr>\n",
       "  </thead>\n",
       "  <tbody>\n",
       "    <tr>\n",
       "      <th>0</th>\n",
       "      <td>vhigh</td>\n",
       "      <td>vhigh</td>\n",
       "      <td>2</td>\n",
       "      <td>2</td>\n",
       "      <td>small</td>\n",
       "      <td>low</td>\n",
       "      <td>unacc</td>\n",
       "    </tr>\n",
       "    <tr>\n",
       "      <th>1</th>\n",
       "      <td>vhigh</td>\n",
       "      <td>vhigh</td>\n",
       "      <td>2</td>\n",
       "      <td>2</td>\n",
       "      <td>small</td>\n",
       "      <td>med</td>\n",
       "      <td>unacc</td>\n",
       "    </tr>\n",
       "    <tr>\n",
       "      <th>2</th>\n",
       "      <td>vhigh</td>\n",
       "      <td>vhigh</td>\n",
       "      <td>2</td>\n",
       "      <td>2</td>\n",
       "      <td>small</td>\n",
       "      <td>high</td>\n",
       "      <td>unacc</td>\n",
       "    </tr>\n",
       "    <tr>\n",
       "      <th>3</th>\n",
       "      <td>vhigh</td>\n",
       "      <td>vhigh</td>\n",
       "      <td>2</td>\n",
       "      <td>2</td>\n",
       "      <td>med</td>\n",
       "      <td>low</td>\n",
       "      <td>unacc</td>\n",
       "    </tr>\n",
       "    <tr>\n",
       "      <th>4</th>\n",
       "      <td>vhigh</td>\n",
       "      <td>vhigh</td>\n",
       "      <td>2</td>\n",
       "      <td>2</td>\n",
       "      <td>med</td>\n",
       "      <td>med</td>\n",
       "      <td>unacc</td>\n",
       "    </tr>\n",
       "  </tbody>\n",
       "</table>\n",
       "</div>"
      ],
      "text/plain": [
       "  buying maintainance doors person luggage_boot safety  label\n",
       "0  vhigh        vhigh     2      2        small    low  unacc\n",
       "1  vhigh        vhigh     2      2        small    med  unacc\n",
       "2  vhigh        vhigh     2      2        small   high  unacc\n",
       "3  vhigh        vhigh     2      2          med    low  unacc\n",
       "4  vhigh        vhigh     2      2          med    med  unacc"
      ]
     },
     "execution_count": 18,
     "metadata": {},
     "output_type": "execute_result"
    }
   ],
   "source": [
    "df_car = pd.read_csv('car.data', sep=',')\n",
    "df_car.head()"
   ]
  },
  {
   "cell_type": "code",
   "execution_count": 19,
   "metadata": {},
   "outputs": [],
   "source": [
    "from sklearn.model_selection import train_test_split\n",
    "df_car_train, df_car_test = train_test_split(df_car, test_size=0.2, random_state=42)"
   ]
  },
  {
   "cell_type": "code",
   "execution_count": 20,
   "metadata": {},
   "outputs": [
    {
     "data": {
      "text/plain": [
       "349"
      ]
     },
     "execution_count": 20,
     "metadata": {},
     "output_type": "execute_result"
    }
   ],
   "source": [
    "columns_list = df_car.columns.tolist()\n",
    "columns_list.remove('label')\n",
    "g_car = TreeGraph(df_car_train, columns_list)\n",
    "g_car.gen_decision_tree()\n",
    "len(g_car.nodes)"
   ]
  },
  {
   "cell_type": "code",
   "execution_count": 21,
   "metadata": {},
   "outputs": [
    {
     "data": {
      "text/plain": [
       "'safety'"
      ]
     },
     "execution_count": 21,
     "metadata": {},
     "output_type": "execute_result"
    }
   ],
   "source": [
    "g_car.root.split_feature"
   ]
  },
  {
   "cell_type": "code",
   "execution_count": 22,
   "metadata": {},
   "outputs": [
    {
     "data": {
      "text/html": [
       "<div>\n",
       "<style scoped>\n",
       "    .dataframe tbody tr th:only-of-type {\n",
       "        vertical-align: middle;\n",
       "    }\n",
       "\n",
       "    .dataframe tbody tr th {\n",
       "        vertical-align: top;\n",
       "    }\n",
       "\n",
       "    .dataframe thead th {\n",
       "        text-align: right;\n",
       "    }\n",
       "</style>\n",
       "<table border=\"1\" class=\"dataframe\">\n",
       "  <thead>\n",
       "    <tr style=\"text-align: right;\">\n",
       "      <th></th>\n",
       "      <th>buying</th>\n",
       "      <th>maintainance</th>\n",
       "      <th>doors</th>\n",
       "      <th>person</th>\n",
       "      <th>luggage_boot</th>\n",
       "      <th>safety</th>\n",
       "      <th>label</th>\n",
       "      <th>prediction</th>\n",
       "    </tr>\n",
       "  </thead>\n",
       "  <tbody>\n",
       "    <tr>\n",
       "      <th>966</th>\n",
       "      <td>med</td>\n",
       "      <td>vhigh</td>\n",
       "      <td>5more</td>\n",
       "      <td>more</td>\n",
       "      <td>med</td>\n",
       "      <td>low</td>\n",
       "      <td>unacc</td>\n",
       "      <td>unacc</td>\n",
       "    </tr>\n",
       "    <tr>\n",
       "      <th>730</th>\n",
       "      <td>high</td>\n",
       "      <td>med</td>\n",
       "      <td>5more</td>\n",
       "      <td>2</td>\n",
       "      <td>small</td>\n",
       "      <td>med</td>\n",
       "      <td>unacc</td>\n",
       "      <td>unacc</td>\n",
       "    </tr>\n",
       "    <tr>\n",
       "      <th>1431</th>\n",
       "      <td>low</td>\n",
       "      <td>high</td>\n",
       "      <td>3</td>\n",
       "      <td>2</td>\n",
       "      <td>small</td>\n",
       "      <td>low</td>\n",
       "      <td>unacc</td>\n",
       "      <td>unacc</td>\n",
       "    </tr>\n",
       "    <tr>\n",
       "      <th>710</th>\n",
       "      <td>high</td>\n",
       "      <td>med</td>\n",
       "      <td>4</td>\n",
       "      <td>2</td>\n",
       "      <td>big</td>\n",
       "      <td>high</td>\n",
       "      <td>unacc</td>\n",
       "      <td>unacc</td>\n",
       "    </tr>\n",
       "    <tr>\n",
       "      <th>1270</th>\n",
       "      <td>med</td>\n",
       "      <td>low</td>\n",
       "      <td>5more</td>\n",
       "      <td>2</td>\n",
       "      <td>small</td>\n",
       "      <td>med</td>\n",
       "      <td>unacc</td>\n",
       "      <td>unacc</td>\n",
       "    </tr>\n",
       "  </tbody>\n",
       "</table>\n",
       "</div>"
      ],
      "text/plain": [
       "     buying maintainance  doors person luggage_boot safety  label prediction\n",
       "966     med        vhigh  5more   more          med    low  unacc      unacc\n",
       "730    high          med  5more      2        small    med  unacc      unacc\n",
       "1431    low         high      3      2        small    low  unacc      unacc\n",
       "710    high          med      4      2          big   high  unacc      unacc\n",
       "1270    med          low  5more      2        small    med  unacc      unacc"
      ]
     },
     "execution_count": 22,
     "metadata": {},
     "output_type": "execute_result"
    }
   ],
   "source": [
    "df_car_prediction = df_car_test.copy()\n",
    "df_car_prediction['prediction'] = None\n",
    "df_car_prediction_result = generate_prediction(df_car_prediction, g_car)\n",
    "df_car_prediction_result.sample(5)"
   ]
  },
  {
   "cell_type": "code",
   "execution_count": 23,
   "metadata": {},
   "outputs": [
    {
     "data": {
      "text/plain": [
       "0.9190751445086706"
      ]
     },
     "execution_count": 23,
     "metadata": {},
     "output_type": "execute_result"
    }
   ],
   "source": [
    "prediction_accuracy_result = prediction_accuracy(df_car_prediction_result)\n",
    "prediction_accuracy_result"
   ]
  }
 ],
 "metadata": {
  "kernelspec": {
   "display_name": "aitech",
   "language": "python",
   "name": "python3"
  },
  "language_info": {
   "codemirror_mode": {
    "name": "ipython",
    "version": 3
   },
   "file_extension": ".py",
   "mimetype": "text/x-python",
   "name": "python",
   "nbconvert_exporter": "python",
   "pygments_lexer": "ipython3",
   "version": "3.11.9"
  }
 },
 "nbformat": 4,
 "nbformat_minor": 2
}
